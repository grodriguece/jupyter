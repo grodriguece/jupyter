{
 "cells": [
  {
   "cell_type": "code",
   "execution_count": 119,
   "metadata": {},
   "outputs": [
    {
     "data": {
      "text/html": [
       "<style>.container {width:90% !important;}</style>"
      ],
      "text/plain": [
       "<IPython.core.display.HTML object>"
      ]
     },
     "metadata": {},
     "output_type": "display_data"
    }
   ],
   "source": [
    "import pandas as pd\n",
    "import numpy as np\n",
    "import datetime\n",
    "import pytz\n",
    "from IPython.core.display import display, HTML\n",
    "display(HTML(\"<style>.container {width:90% !important;}</style>\"))\n",
    "pd.set_option('display.max_columns', 50)\n",
    "pd.set_option('display.max_rows', 10)"
   ]
  },
  {
   "cell_type": "code",
   "execution_count": 2,
   "metadata": {},
   "outputs": [],
   "source": [
    "data = pd.read_csv('https://raw.githubusercontent.com/FBosler/you-datascientist/master/happiness_with_continent.csv')"
   ]
  },
  {
   "cell_type": "code",
   "execution_count": 2,
   "metadata": {},
   "outputs": [],
   "source": [
    "invoices = pd.read_csv('https://raw.githubusercontent.com/FBosler/you-datascientist/master/invoices.csv')"
   ]
  },
  {
   "cell_type": "code",
   "execution_count": 3,
   "metadata": {},
   "outputs": [
    {
     "data": {
      "text/html": [
       "<div>\n",
       "<style scoped>\n",
       "    .dataframe tbody tr th:only-of-type {\n",
       "        vertical-align: middle;\n",
       "    }\n",
       "\n",
       "    .dataframe tbody tr th {\n",
       "        vertical-align: top;\n",
       "    }\n",
       "\n",
       "    .dataframe thead th {\n",
       "        text-align: right;\n",
       "    }\n",
       "</style>\n",
       "<table border=\"1\" class=\"dataframe\">\n",
       "  <thead>\n",
       "    <tr style=\"text-align: right;\">\n",
       "      <th></th>\n",
       "      <th>Order Id</th>\n",
       "      <th>Date</th>\n",
       "      <th>Meal Id</th>\n",
       "      <th>Company Id</th>\n",
       "      <th>Date of Meal</th>\n",
       "      <th>Participants</th>\n",
       "      <th>Meal Price</th>\n",
       "      <th>Type of Meal</th>\n",
       "      <th>Heroes Adjustment</th>\n",
       "    </tr>\n",
       "  </thead>\n",
       "  <tbody>\n",
       "    <tr>\n",
       "      <th>0</th>\n",
       "      <td>BFQH32BSTITBN67M</td>\n",
       "      <td>2015-01-26</td>\n",
       "      <td>3MTPP8FM3Q1HZG67</td>\n",
       "      <td>IMD0ZDA2GMD8HQTU</td>\n",
       "      <td>2015-01-29 09:00:00+01:00</td>\n",
       "      <td>['Wayne Johnston']</td>\n",
       "      <td>145.0</td>\n",
       "      <td>Breakfast</td>\n",
       "      <td>False</td>\n",
       "    </tr>\n",
       "    <tr>\n",
       "      <th>1</th>\n",
       "      <td>5O6UF7USB0B9F7MK</td>\n",
       "      <td>2017-11-01</td>\n",
       "      <td>08BS3TAONDO2X473</td>\n",
       "      <td>IMD0ZDA2GMD8HQTU</td>\n",
       "      <td>2017-10-30 21:00:00+01:00</td>\n",
       "      <td>['Wayne Johnston']</td>\n",
       "      <td>598.0</td>\n",
       "      <td>Dinner</td>\n",
       "      <td>False</td>\n",
       "    </tr>\n",
       "    <tr>\n",
       "      <th>2</th>\n",
       "      <td>4GHNJ45FS0H6TKQ8</td>\n",
       "      <td>2015-02-15</td>\n",
       "      <td>NK09YDZIMQ3ZILHC</td>\n",
       "      <td>IMD0ZDA2GMD8HQTU</td>\n",
       "      <td>2015-02-10 12:00:00+01:00</td>\n",
       "      <td>['Edwin Murray']</td>\n",
       "      <td>408.0</td>\n",
       "      <td>Lunch</td>\n",
       "      <td>False</td>\n",
       "    </tr>\n",
       "    <tr>\n",
       "      <th>3</th>\n",
       "      <td>PTX3MK692PNX1L9K</td>\n",
       "      <td>2014-11-13</td>\n",
       "      <td>ZKI7UOINY89F3F8M</td>\n",
       "      <td>IMD0ZDA2GMD8HQTU</td>\n",
       "      <td>2014-11-11 13:00:00+01:00</td>\n",
       "      <td>['Wayne Johnston']</td>\n",
       "      <td>354.0</td>\n",
       "      <td>Lunch</td>\n",
       "      <td>False</td>\n",
       "    </tr>\n",
       "    <tr>\n",
       "      <th>4</th>\n",
       "      <td>MBNVXEV3MYYFH7OB</td>\n",
       "      <td>2016-07-16</td>\n",
       "      <td>NYHHM6PNQ4EK3NCP</td>\n",
       "      <td>IMD0ZDA2GMD8HQTU</td>\n",
       "      <td>2016-07-17 13:00:00+02:00</td>\n",
       "      <td>['Wayne Johnston']</td>\n",
       "      <td>72.0</td>\n",
       "      <td>Lunch</td>\n",
       "      <td>False</td>\n",
       "    </tr>\n",
       "  </tbody>\n",
       "</table>\n",
       "</div>"
      ],
      "text/plain": [
       "           Order Id        Date           Meal Id        Company Id  \\\n",
       "0  BFQH32BSTITBN67M  2015-01-26  3MTPP8FM3Q1HZG67  IMD0ZDA2GMD8HQTU   \n",
       "1  5O6UF7USB0B9F7MK  2017-11-01  08BS3TAONDO2X473  IMD0ZDA2GMD8HQTU   \n",
       "2  4GHNJ45FS0H6TKQ8  2015-02-15  NK09YDZIMQ3ZILHC  IMD0ZDA2GMD8HQTU   \n",
       "3  PTX3MK692PNX1L9K  2014-11-13  ZKI7UOINY89F3F8M  IMD0ZDA2GMD8HQTU   \n",
       "4  MBNVXEV3MYYFH7OB  2016-07-16  NYHHM6PNQ4EK3NCP  IMD0ZDA2GMD8HQTU   \n",
       "\n",
       "                Date of Meal        Participants  Meal Price Type of Meal  \\\n",
       "0  2015-01-29 09:00:00+01:00  ['Wayne Johnston']       145.0    Breakfast   \n",
       "1  2017-10-30 21:00:00+01:00  ['Wayne Johnston']       598.0       Dinner   \n",
       "2  2015-02-10 12:00:00+01:00    ['Edwin Murray']       408.0        Lunch   \n",
       "3  2014-11-11 13:00:00+01:00  ['Wayne Johnston']       354.0        Lunch   \n",
       "4  2016-07-17 13:00:00+02:00  ['Wayne Johnston']        72.0        Lunch   \n",
       "\n",
       "   Heroes Adjustment  \n",
       "0              False  \n",
       "1              False  \n",
       "2              False  \n",
       "3              False  \n",
       "4              False  "
      ]
     },
     "execution_count": 3,
     "metadata": {},
     "output_type": "execute_result"
    }
   ],
   "source": [
    "invoices.head(5)"
   ]
  },
  {
   "cell_type": "code",
   "execution_count": 4,
   "metadata": {},
   "outputs": [],
   "source": [
    "#pd.to_datetime(invoices['Date of Meal'].values, utc=True)"
   ]
  },
  {
   "cell_type": "code",
   "execution_count": 5,
   "metadata": {},
   "outputs": [],
   "source": [
    "invoices['Type of Meal'] = invoices['Type of Meal'].astype('category')\n",
    "invoices['Date of Meal'] = invoices['Date of Meal'].astype('datetime64[ns]')\n",
    "#invoices['Date of Meal'] = pd.to_datetime(invoices['Date of Meal'])\n",
    "invoices['Date'] = invoices['Date'].astype('datetime64[ns]')\n",
    "invoices['Meal Price'] = invoices['Meal Price'].astype('int')"
   ]
  },
  {
   "cell_type": "code",
   "execution_count": 6,
   "metadata": {},
   "outputs": [
    {
     "data": {
      "text/html": [
       "<div>\n",
       "<style scoped>\n",
       "    .dataframe tbody tr th:only-of-type {\n",
       "        vertical-align: middle;\n",
       "    }\n",
       "\n",
       "    .dataframe tbody tr th {\n",
       "        vertical-align: top;\n",
       "    }\n",
       "\n",
       "    .dataframe thead th {\n",
       "        text-align: right;\n",
       "    }\n",
       "</style>\n",
       "<table border=\"1\" class=\"dataframe\">\n",
       "  <thead>\n",
       "    <tr style=\"text-align: right;\">\n",
       "      <th></th>\n",
       "      <th>Order Id</th>\n",
       "      <th>Date</th>\n",
       "      <th>Meal Id</th>\n",
       "      <th>Company Id</th>\n",
       "      <th>Date of Meal</th>\n",
       "      <th>Participants</th>\n",
       "      <th>Meal Price</th>\n",
       "      <th>Type of Meal</th>\n",
       "      <th>Heroes Adjustment</th>\n",
       "    </tr>\n",
       "  </thead>\n",
       "  <tbody>\n",
       "    <tr>\n",
       "      <th>0</th>\n",
       "      <td>BFQH32BSTITBN67M</td>\n",
       "      <td>2015-01-26</td>\n",
       "      <td>3MTPP8FM3Q1HZG67</td>\n",
       "      <td>IMD0ZDA2GMD8HQTU</td>\n",
       "      <td>2015-01-29 08:00:00</td>\n",
       "      <td>['Wayne Johnston']</td>\n",
       "      <td>145</td>\n",
       "      <td>Breakfast</td>\n",
       "      <td>False</td>\n",
       "    </tr>\n",
       "    <tr>\n",
       "      <th>1</th>\n",
       "      <td>5O6UF7USB0B9F7MK</td>\n",
       "      <td>2017-11-01</td>\n",
       "      <td>08BS3TAONDO2X473</td>\n",
       "      <td>IMD0ZDA2GMD8HQTU</td>\n",
       "      <td>2017-10-30 20:00:00</td>\n",
       "      <td>['Wayne Johnston']</td>\n",
       "      <td>598</td>\n",
       "      <td>Dinner</td>\n",
       "      <td>False</td>\n",
       "    </tr>\n",
       "    <tr>\n",
       "      <th>2</th>\n",
       "      <td>4GHNJ45FS0H6TKQ8</td>\n",
       "      <td>2015-02-15</td>\n",
       "      <td>NK09YDZIMQ3ZILHC</td>\n",
       "      <td>IMD0ZDA2GMD8HQTU</td>\n",
       "      <td>2015-02-10 11:00:00</td>\n",
       "      <td>['Edwin Murray']</td>\n",
       "      <td>408</td>\n",
       "      <td>Lunch</td>\n",
       "      <td>False</td>\n",
       "    </tr>\n",
       "    <tr>\n",
       "      <th>3</th>\n",
       "      <td>PTX3MK692PNX1L9K</td>\n",
       "      <td>2014-11-13</td>\n",
       "      <td>ZKI7UOINY89F3F8M</td>\n",
       "      <td>IMD0ZDA2GMD8HQTU</td>\n",
       "      <td>2014-11-11 12:00:00</td>\n",
       "      <td>['Wayne Johnston']</td>\n",
       "      <td>354</td>\n",
       "      <td>Lunch</td>\n",
       "      <td>False</td>\n",
       "    </tr>\n",
       "    <tr>\n",
       "      <th>4</th>\n",
       "      <td>MBNVXEV3MYYFH7OB</td>\n",
       "      <td>2016-07-16</td>\n",
       "      <td>NYHHM6PNQ4EK3NCP</td>\n",
       "      <td>IMD0ZDA2GMD8HQTU</td>\n",
       "      <td>2016-07-17 11:00:00</td>\n",
       "      <td>['Wayne Johnston']</td>\n",
       "      <td>72</td>\n",
       "      <td>Lunch</td>\n",
       "      <td>False</td>\n",
       "    </tr>\n",
       "  </tbody>\n",
       "</table>\n",
       "</div>"
      ],
      "text/plain": [
       "           Order Id       Date           Meal Id        Company Id  \\\n",
       "0  BFQH32BSTITBN67M 2015-01-26  3MTPP8FM3Q1HZG67  IMD0ZDA2GMD8HQTU   \n",
       "1  5O6UF7USB0B9F7MK 2017-11-01  08BS3TAONDO2X473  IMD0ZDA2GMD8HQTU   \n",
       "2  4GHNJ45FS0H6TKQ8 2015-02-15  NK09YDZIMQ3ZILHC  IMD0ZDA2GMD8HQTU   \n",
       "3  PTX3MK692PNX1L9K 2014-11-13  ZKI7UOINY89F3F8M  IMD0ZDA2GMD8HQTU   \n",
       "4  MBNVXEV3MYYFH7OB 2016-07-16  NYHHM6PNQ4EK3NCP  IMD0ZDA2GMD8HQTU   \n",
       "\n",
       "         Date of Meal        Participants  Meal Price Type of Meal  \\\n",
       "0 2015-01-29 08:00:00  ['Wayne Johnston']         145    Breakfast   \n",
       "1 2017-10-30 20:00:00  ['Wayne Johnston']         598       Dinner   \n",
       "2 2015-02-10 11:00:00    ['Edwin Murray']         408        Lunch   \n",
       "3 2014-11-11 12:00:00  ['Wayne Johnston']         354        Lunch   \n",
       "4 2016-07-17 11:00:00  ['Wayne Johnston']          72        Lunch   \n",
       "\n",
       "   Heroes Adjustment  \n",
       "0              False  \n",
       "1              False  \n",
       "2              False  \n",
       "3              False  \n",
       "4              False  "
      ]
     },
     "execution_count": 6,
     "metadata": {},
     "output_type": "execute_result"
    }
   ],
   "source": [
    "invoices.head(5)"
   ]
  },
  {
   "cell_type": "code",
   "execution_count": 53,
   "metadata": {},
   "outputs": [],
   "source": [
    "invoices.loc[45612,'Meal Price'] = 'I am causing trouble'\n",
    "invoices.loc[35612,'Meal Price'] = 'Me too'"
   ]
  },
  {
   "cell_type": "code",
   "execution_count": 54,
   "metadata": {},
   "outputs": [
    {
     "ename": "ValueError",
     "evalue": "invalid literal for int() with base 10: 'Me too'",
     "output_type": "error",
     "traceback": [
      "\u001b[0;31m---------------------------------------------------------------------------\u001b[0m",
      "\u001b[0;31mValueError\u001b[0m                                Traceback (most recent call last)",
      "\u001b[0;32m<ipython-input-54-7a45f8f5d74c>\u001b[0m in \u001b[0;36m<module>\u001b[0;34m\u001b[0m\n\u001b[0;32m----> 1\u001b[0;31m \u001b[0minvoices\u001b[0m\u001b[0;34m[\u001b[0m\u001b[0;34m'Meal Price'\u001b[0m\u001b[0;34m]\u001b[0m\u001b[0;34m.\u001b[0m\u001b[0mastype\u001b[0m\u001b[0;34m(\u001b[0m\u001b[0mint\u001b[0m\u001b[0;34m)\u001b[0m\u001b[0;34m\u001b[0m\u001b[0;34m\u001b[0m\u001b[0m\n\u001b[0m",
      "\u001b[0;32m~/anaconda3/lib/python3.7/site-packages/pandas/util/_decorators.py\u001b[0m in \u001b[0;36mwrapper\u001b[0;34m(*args, **kwargs)\u001b[0m\n\u001b[1;32m    176\u001b[0m                 \u001b[0;32melse\u001b[0m\u001b[0;34m:\u001b[0m\u001b[0;34m\u001b[0m\u001b[0;34m\u001b[0m\u001b[0m\n\u001b[1;32m    177\u001b[0m                     \u001b[0mkwargs\u001b[0m\u001b[0;34m[\u001b[0m\u001b[0mnew_arg_name\u001b[0m\u001b[0;34m]\u001b[0m \u001b[0;34m=\u001b[0m \u001b[0mnew_arg_value\u001b[0m\u001b[0;34m\u001b[0m\u001b[0;34m\u001b[0m\u001b[0m\n\u001b[0;32m--> 178\u001b[0;31m             \u001b[0;32mreturn\u001b[0m \u001b[0mfunc\u001b[0m\u001b[0;34m(\u001b[0m\u001b[0;34m*\u001b[0m\u001b[0margs\u001b[0m\u001b[0;34m,\u001b[0m \u001b[0;34m**\u001b[0m\u001b[0mkwargs\u001b[0m\u001b[0;34m)\u001b[0m\u001b[0;34m\u001b[0m\u001b[0;34m\u001b[0m\u001b[0m\n\u001b[0m\u001b[1;32m    179\u001b[0m         \u001b[0;32mreturn\u001b[0m \u001b[0mwrapper\u001b[0m\u001b[0;34m\u001b[0m\u001b[0;34m\u001b[0m\u001b[0m\n\u001b[1;32m    180\u001b[0m     \u001b[0;32mreturn\u001b[0m \u001b[0m_deprecate_kwarg\u001b[0m\u001b[0;34m\u001b[0m\u001b[0;34m\u001b[0m\u001b[0m\n",
      "\u001b[0;32m~/anaconda3/lib/python3.7/site-packages/pandas/core/generic.py\u001b[0m in \u001b[0;36mastype\u001b[0;34m(self, dtype, copy, errors, **kwargs)\u001b[0m\n\u001b[1;32m   4999\u001b[0m             \u001b[0;31m# else, only a single dtype is given\u001b[0m\u001b[0;34m\u001b[0m\u001b[0;34m\u001b[0m\u001b[0;34m\u001b[0m\u001b[0m\n\u001b[1;32m   5000\u001b[0m             new_data = self._data.astype(dtype=dtype, copy=copy, errors=errors,\n\u001b[0;32m-> 5001\u001b[0;31m                                          **kwargs)\n\u001b[0m\u001b[1;32m   5002\u001b[0m             \u001b[0;32mreturn\u001b[0m \u001b[0mself\u001b[0m\u001b[0;34m.\u001b[0m\u001b[0m_constructor\u001b[0m\u001b[0;34m(\u001b[0m\u001b[0mnew_data\u001b[0m\u001b[0;34m)\u001b[0m\u001b[0;34m.\u001b[0m\u001b[0m__finalize__\u001b[0m\u001b[0;34m(\u001b[0m\u001b[0mself\u001b[0m\u001b[0;34m)\u001b[0m\u001b[0;34m\u001b[0m\u001b[0;34m\u001b[0m\u001b[0m\n\u001b[1;32m   5003\u001b[0m \u001b[0;34m\u001b[0m\u001b[0m\n",
      "\u001b[0;32m~/anaconda3/lib/python3.7/site-packages/pandas/core/internals.py\u001b[0m in \u001b[0;36mastype\u001b[0;34m(self, dtype, **kwargs)\u001b[0m\n\u001b[1;32m   3712\u001b[0m \u001b[0;34m\u001b[0m\u001b[0m\n\u001b[1;32m   3713\u001b[0m     \u001b[0;32mdef\u001b[0m \u001b[0mastype\u001b[0m\u001b[0;34m(\u001b[0m\u001b[0mself\u001b[0m\u001b[0;34m,\u001b[0m \u001b[0mdtype\u001b[0m\u001b[0;34m,\u001b[0m \u001b[0;34m**\u001b[0m\u001b[0mkwargs\u001b[0m\u001b[0;34m)\u001b[0m\u001b[0;34m:\u001b[0m\u001b[0;34m\u001b[0m\u001b[0;34m\u001b[0m\u001b[0m\n\u001b[0;32m-> 3714\u001b[0;31m         \u001b[0;32mreturn\u001b[0m \u001b[0mself\u001b[0m\u001b[0;34m.\u001b[0m\u001b[0mapply\u001b[0m\u001b[0;34m(\u001b[0m\u001b[0;34m'astype'\u001b[0m\u001b[0;34m,\u001b[0m \u001b[0mdtype\u001b[0m\u001b[0;34m=\u001b[0m\u001b[0mdtype\u001b[0m\u001b[0;34m,\u001b[0m \u001b[0;34m**\u001b[0m\u001b[0mkwargs\u001b[0m\u001b[0;34m)\u001b[0m\u001b[0;34m\u001b[0m\u001b[0;34m\u001b[0m\u001b[0m\n\u001b[0m\u001b[1;32m   3715\u001b[0m \u001b[0;34m\u001b[0m\u001b[0m\n\u001b[1;32m   3716\u001b[0m     \u001b[0;32mdef\u001b[0m \u001b[0mconvert\u001b[0m\u001b[0;34m(\u001b[0m\u001b[0mself\u001b[0m\u001b[0;34m,\u001b[0m \u001b[0;34m**\u001b[0m\u001b[0mkwargs\u001b[0m\u001b[0;34m)\u001b[0m\u001b[0;34m:\u001b[0m\u001b[0;34m\u001b[0m\u001b[0;34m\u001b[0m\u001b[0m\n",
      "\u001b[0;32m~/anaconda3/lib/python3.7/site-packages/pandas/core/internals.py\u001b[0m in \u001b[0;36mapply\u001b[0;34m(self, f, axes, filter, do_integrity_check, consolidate, **kwargs)\u001b[0m\n\u001b[1;32m   3579\u001b[0m \u001b[0;34m\u001b[0m\u001b[0m\n\u001b[1;32m   3580\u001b[0m             \u001b[0mkwargs\u001b[0m\u001b[0;34m[\u001b[0m\u001b[0;34m'mgr'\u001b[0m\u001b[0;34m]\u001b[0m \u001b[0;34m=\u001b[0m \u001b[0mself\u001b[0m\u001b[0;34m\u001b[0m\u001b[0;34m\u001b[0m\u001b[0m\n\u001b[0;32m-> 3581\u001b[0;31m             \u001b[0mapplied\u001b[0m \u001b[0;34m=\u001b[0m \u001b[0mgetattr\u001b[0m\u001b[0;34m(\u001b[0m\u001b[0mb\u001b[0m\u001b[0;34m,\u001b[0m \u001b[0mf\u001b[0m\u001b[0;34m)\u001b[0m\u001b[0;34m(\u001b[0m\u001b[0;34m**\u001b[0m\u001b[0mkwargs\u001b[0m\u001b[0;34m)\u001b[0m\u001b[0;34m\u001b[0m\u001b[0;34m\u001b[0m\u001b[0m\n\u001b[0m\u001b[1;32m   3582\u001b[0m             \u001b[0mresult_blocks\u001b[0m \u001b[0;34m=\u001b[0m \u001b[0m_extend_blocks\u001b[0m\u001b[0;34m(\u001b[0m\u001b[0mapplied\u001b[0m\u001b[0;34m,\u001b[0m \u001b[0mresult_blocks\u001b[0m\u001b[0;34m)\u001b[0m\u001b[0;34m\u001b[0m\u001b[0;34m\u001b[0m\u001b[0m\n\u001b[1;32m   3583\u001b[0m \u001b[0;34m\u001b[0m\u001b[0m\n",
      "\u001b[0;32m~/anaconda3/lib/python3.7/site-packages/pandas/core/internals.py\u001b[0m in \u001b[0;36mastype\u001b[0;34m(self, dtype, copy, errors, values, **kwargs)\u001b[0m\n\u001b[1;32m    573\u001b[0m     \u001b[0;32mdef\u001b[0m \u001b[0mastype\u001b[0m\u001b[0;34m(\u001b[0m\u001b[0mself\u001b[0m\u001b[0;34m,\u001b[0m \u001b[0mdtype\u001b[0m\u001b[0;34m,\u001b[0m \u001b[0mcopy\u001b[0m\u001b[0;34m=\u001b[0m\u001b[0;32mFalse\u001b[0m\u001b[0;34m,\u001b[0m \u001b[0merrors\u001b[0m\u001b[0;34m=\u001b[0m\u001b[0;34m'raise'\u001b[0m\u001b[0;34m,\u001b[0m \u001b[0mvalues\u001b[0m\u001b[0;34m=\u001b[0m\u001b[0;32mNone\u001b[0m\u001b[0;34m,\u001b[0m \u001b[0;34m**\u001b[0m\u001b[0mkwargs\u001b[0m\u001b[0;34m)\u001b[0m\u001b[0;34m:\u001b[0m\u001b[0;34m\u001b[0m\u001b[0;34m\u001b[0m\u001b[0m\n\u001b[1;32m    574\u001b[0m         return self._astype(dtype, copy=copy, errors=errors, values=values,\n\u001b[0;32m--> 575\u001b[0;31m                             **kwargs)\n\u001b[0m\u001b[1;32m    576\u001b[0m \u001b[0;34m\u001b[0m\u001b[0m\n\u001b[1;32m    577\u001b[0m     def _astype(self, dtype, copy=False, errors='raise', values=None,\n",
      "\u001b[0;32m~/anaconda3/lib/python3.7/site-packages/pandas/core/internals.py\u001b[0m in \u001b[0;36m_astype\u001b[0;34m(self, dtype, copy, errors, values, klass, mgr, **kwargs)\u001b[0m\n\u001b[1;32m    662\u001b[0m \u001b[0;34m\u001b[0m\u001b[0m\n\u001b[1;32m    663\u001b[0m                 \u001b[0;31m# _astype_nansafe works fine with 1-d only\u001b[0m\u001b[0;34m\u001b[0m\u001b[0;34m\u001b[0m\u001b[0;34m\u001b[0m\u001b[0m\n\u001b[0;32m--> 664\u001b[0;31m                 \u001b[0mvalues\u001b[0m \u001b[0;34m=\u001b[0m \u001b[0mastype_nansafe\u001b[0m\u001b[0;34m(\u001b[0m\u001b[0mvalues\u001b[0m\u001b[0;34m.\u001b[0m\u001b[0mravel\u001b[0m\u001b[0;34m(\u001b[0m\u001b[0;34m)\u001b[0m\u001b[0;34m,\u001b[0m \u001b[0mdtype\u001b[0m\u001b[0;34m,\u001b[0m \u001b[0mcopy\u001b[0m\u001b[0;34m=\u001b[0m\u001b[0;32mTrue\u001b[0m\u001b[0;34m)\u001b[0m\u001b[0;34m\u001b[0m\u001b[0;34m\u001b[0m\u001b[0m\n\u001b[0m\u001b[1;32m    665\u001b[0m                 \u001b[0mvalues\u001b[0m \u001b[0;34m=\u001b[0m \u001b[0mvalues\u001b[0m\u001b[0;34m.\u001b[0m\u001b[0mreshape\u001b[0m\u001b[0;34m(\u001b[0m\u001b[0mself\u001b[0m\u001b[0;34m.\u001b[0m\u001b[0mshape\u001b[0m\u001b[0;34m)\u001b[0m\u001b[0;34m\u001b[0m\u001b[0;34m\u001b[0m\u001b[0m\n\u001b[1;32m    666\u001b[0m \u001b[0;34m\u001b[0m\u001b[0m\n",
      "\u001b[0;32m~/anaconda3/lib/python3.7/site-packages/pandas/core/dtypes/cast.py\u001b[0m in \u001b[0;36mastype_nansafe\u001b[0;34m(arr, dtype, copy)\u001b[0m\n\u001b[1;32m    707\u001b[0m         \u001b[0;31m# work around NumPy brokenness, #1987\u001b[0m\u001b[0;34m\u001b[0m\u001b[0;34m\u001b[0m\u001b[0;34m\u001b[0m\u001b[0m\n\u001b[1;32m    708\u001b[0m         \u001b[0;32mif\u001b[0m \u001b[0mnp\u001b[0m\u001b[0;34m.\u001b[0m\u001b[0missubdtype\u001b[0m\u001b[0;34m(\u001b[0m\u001b[0mdtype\u001b[0m\u001b[0;34m.\u001b[0m\u001b[0mtype\u001b[0m\u001b[0;34m,\u001b[0m \u001b[0mnp\u001b[0m\u001b[0;34m.\u001b[0m\u001b[0minteger\u001b[0m\u001b[0;34m)\u001b[0m\u001b[0;34m:\u001b[0m\u001b[0;34m\u001b[0m\u001b[0;34m\u001b[0m\u001b[0m\n\u001b[0;32m--> 709\u001b[0;31m             \u001b[0;32mreturn\u001b[0m \u001b[0mlib\u001b[0m\u001b[0;34m.\u001b[0m\u001b[0mastype_intsafe\u001b[0m\u001b[0;34m(\u001b[0m\u001b[0marr\u001b[0m\u001b[0;34m.\u001b[0m\u001b[0mravel\u001b[0m\u001b[0;34m(\u001b[0m\u001b[0;34m)\u001b[0m\u001b[0;34m,\u001b[0m \u001b[0mdtype\u001b[0m\u001b[0;34m)\u001b[0m\u001b[0;34m.\u001b[0m\u001b[0mreshape\u001b[0m\u001b[0;34m(\u001b[0m\u001b[0marr\u001b[0m\u001b[0;34m.\u001b[0m\u001b[0mshape\u001b[0m\u001b[0;34m)\u001b[0m\u001b[0;34m\u001b[0m\u001b[0;34m\u001b[0m\u001b[0m\n\u001b[0m\u001b[1;32m    710\u001b[0m \u001b[0;34m\u001b[0m\u001b[0m\n\u001b[1;32m    711\u001b[0m         \u001b[0;31m# if we have a datetime/timedelta array of objects\u001b[0m\u001b[0;34m\u001b[0m\u001b[0;34m\u001b[0m\u001b[0;34m\u001b[0m\u001b[0m\n",
      "\u001b[0;32mpandas/_libs/lib.pyx\u001b[0m in \u001b[0;36mpandas._libs.lib.astype_intsafe\u001b[0;34m()\u001b[0m\n",
      "\u001b[0;32mpandas/_libs/src/util.pxd\u001b[0m in \u001b[0;36mutil.set_value_at_unsafe\u001b[0;34m()\u001b[0m\n",
      "\u001b[0;31mValueError\u001b[0m: invalid literal for int() with base 10: 'Me too'"
     ]
    }
   ],
   "source": [
    "invoices['Meal Price'].astype(int)"
   ]
  },
  {
   "cell_type": "code",
   "execution_count": 58,
   "metadata": {},
   "outputs": [
    {
     "data": {
      "text/plain": [
       "<class 'int'>    49972\n",
       "<class 'str'>        2\n",
       "Name: Meal Price, dtype: int64"
      ]
     },
     "execution_count": 58,
     "metadata": {},
     "output_type": "execute_result"
    }
   ],
   "source": [
    "invoices['Meal Price'].apply(lambda x: type(x)).value_counts()"
   ]
  },
  {
   "cell_type": "code",
   "execution_count": 63,
   "metadata": {},
   "outputs": [
    {
     "data": {
      "text/plain": [
       "35612                  Me too\n",
       "45612    I am causing trouble\n",
       "Name: Meal Price, dtype: object"
      ]
     },
     "execution_count": 63,
     "metadata": {},
     "output_type": "execute_result"
    }
   ],
   "source": [
    "invoices['Meal Price'][invoices['Meal Price'].apply(\n",
    "  lambda x: isinstance(x,str)\n",
    ")]"
   ]
  },
  {
   "cell_type": "code",
   "execution_count": 70,
   "metadata": {},
   "outputs": [
    {
     "data": {
      "text/plain": [
       "0        145.0\n",
       "1        598.0\n",
       "2        408.0\n",
       "3        354.0\n",
       "4         72.0\n",
       "         ...  \n",
       "49969    156.0\n",
       "49970    166.0\n",
       "49971    447.0\n",
       "49972    442.0\n",
       "49973    471.0\n",
       "Name: Meal Price, Length: 49974, dtype: float64"
      ]
     },
     "execution_count": 70,
     "metadata": {},
     "output_type": "execute_result"
    }
   ],
   "source": [
    "pd.to_numeric(invoices['Meal Price'],errors='coerce')"
   ]
  },
  {
   "cell_type": "code",
   "execution_count": 73,
   "metadata": {},
   "outputs": [],
   "source": [
    "invoices['Meal Price'] = pd.to_numeric(invoices['Meal Price'],errors='coerce')\n",
    "invoices['Meal Price'] = invoices['Meal Price'].fillna(invoices['Meal Price'].median())\n",
    "invoices['Meal Price'].astype(int)"
   ]
  },
  {
   "cell_type": "code",
   "execution_count": 51,
   "metadata": {},
   "outputs": [
    {
     "name": "stdout",
     "output_type": "stream",
     "text": [
      "2019-08-01 00:00:00\n",
      "2019-08-01 00:00:00\n",
      "2019-08-01 00:00:00\n",
      "2019-08-01 00:00:00\n",
      "2019-08-01 00:00:00\n",
      "2019-08-01 00:00:00\n",
      "2019-08-01 00:00:00\n",
      "2019-08-01 00:00:00\n"
     ]
    }
   ],
   "source": [
    "print(pd.to_datetime('2019-8-1'))\n",
    "print(pd.to_datetime('2019/8/1'))\n",
    "print(pd.to_datetime('8/1/2019'))\n",
    "print(pd.to_datetime('Aug, 1 2019'))\n",
    "print(pd.to_datetime('Aug - 1 2019'))\n",
    "print(pd.to_datetime('August - 1 2019'))\n",
    "print(pd.to_datetime('2019, August - 1'))\n",
    "print(pd.to_datetime('20190108',format='%Y%d%m'))"
   ]
  },
  {
   "cell_type": "code",
   "execution_count": 52,
   "metadata": {},
   "outputs": [
    {
     "name": "stdout",
     "output_type": "stream",
     "text": [
      "2019-08-01 00:00:00\n"
     ]
    }
   ],
   "source": [
    "print(pd.to_datetime('yolo 20190108',format='%Y%d%m', exact=False))"
   ]
  },
  {
   "cell_type": "markdown",
   "metadata": {},
   "source": [
    "## accessor - dt"
   ]
  },
  {
   "cell_type": "code",
   "execution_count": 120,
   "metadata": {},
   "outputs": [],
   "source": [
    "pd.set_option('display.max_rows', 4)"
   ]
  },
  {
   "cell_type": "code",
   "execution_count": 121,
   "metadata": {},
   "outputs": [
    {
     "data": {
      "text/plain": [
       "0        2015-01-29\n",
       "1        2017-10-30\n",
       "            ...    \n",
       "49972    2017-09-06\n",
       "49973    2015-08-20\n",
       "Name: Date of Meal, Length: 49974, dtype: object"
      ]
     },
     "execution_count": 121,
     "metadata": {},
     "output_type": "execute_result"
    }
   ],
   "source": [
    "invoices['Date of Meal'].dt.date"
   ]
  },
  {
   "cell_type": "code",
   "execution_count": 145,
   "metadata": {},
   "outputs": [
    {
     "data": {
      "text/plain": [
       "0         Thursday\n",
       "1           Monday\n",
       "           ...    \n",
       "49972    Wednesday\n",
       "49973     Thursday\n",
       "Name: Date of Meal, Length: 49974, dtype: object"
      ]
     },
     "execution_count": 145,
     "metadata": {},
     "output_type": "execute_result"
    }
   ],
   "source": [
    "invoices['Date of Meal'].dt.weekday_name"
   ]
  },
  {
   "cell_type": "code",
   "execution_count": 158,
   "metadata": {},
   "outputs": [
    {
     "data": {
      "text/plain": [
       "0          January\n",
       "1          October\n",
       "           ...    \n",
       "49972    September\n",
       "49973       August\n",
       "Name: Date of Meal, Length: 49974, dtype: object"
      ]
     },
     "execution_count": 158,
     "metadata": {},
     "output_type": "execute_result"
    }
   ],
   "source": [
    "invoices['Date of Meal'].dt.month_name()"
   ]
  },
  {
   "cell_type": "code",
   "execution_count": 147,
   "metadata": {},
   "outputs": [
    {
     "data": {
      "text/plain": [
       "0        31\n",
       "1        31\n",
       "         ..\n",
       "49972    30\n",
       "49973    31\n",
       "Name: Date of Meal, Length: 49974, dtype: int64"
      ]
     },
     "execution_count": 147,
     "metadata": {},
     "output_type": "execute_result"
    }
   ],
   "source": [
    "invoices['Date of Meal'].dt.days_in_month"
   ]
  },
  {
   "cell_type": "code",
   "execution_count": 123,
   "metadata": {},
   "outputs": [
    {
     "data": {
      "text/plain": [
       "0        29\n",
       "1        30\n",
       "         ..\n",
       "49972     6\n",
       "49973    20\n",
       "Name: Date of Meal, Length: 49974, dtype: int64"
      ]
     },
     "execution_count": 123,
     "metadata": {},
     "output_type": "execute_result"
    }
   ],
   "source": [
    "invoices['Date of Meal'].dt.day"
   ]
  },
  {
   "cell_type": "code",
   "execution_count": 131,
   "metadata": {},
   "outputs": [
    {
     "data": {
      "text/plain": [
       "0         5\n",
       "1        44\n",
       "         ..\n",
       "49972    36\n",
       "49973    34\n",
       "Name: Date of Meal, Length: 49974, dtype: int64"
      ]
     },
     "execution_count": 131,
     "metadata": {},
     "output_type": "execute_result"
    }
   ],
   "source": [
    "invoices['Date of Meal'].dt.week"
   ]
  },
  {
   "cell_type": "code",
   "execution_count": 124,
   "metadata": {},
   "outputs": [
    {
     "data": {
      "text/plain": [
       "0         1\n",
       "1        10\n",
       "         ..\n",
       "49972     9\n",
       "49973     8\n",
       "Name: Date of Meal, Length: 49974, dtype: int64"
      ]
     },
     "execution_count": 124,
     "metadata": {},
     "output_type": "execute_result"
    }
   ],
   "source": [
    "invoices['Date of Meal'].dt.month"
   ]
  },
  {
   "cell_type": "code",
   "execution_count": 126,
   "metadata": {},
   "outputs": [
    {
     "data": {
      "text/plain": [
       "0        1\n",
       "1        4\n",
       "        ..\n",
       "49972    3\n",
       "49973    3\n",
       "Name: Date of Meal, Length: 49974, dtype: int64"
      ]
     },
     "execution_count": 126,
     "metadata": {},
     "output_type": "execute_result"
    }
   ],
   "source": [
    "invoices['Date of Meal'].dt.quarter"
   ]
  },
  {
   "cell_type": "code",
   "execution_count": 127,
   "metadata": {},
   "outputs": [
    {
     "data": {
      "text/plain": [
       "0        2015\n",
       "1        2017\n",
       "         ... \n",
       "49972    2017\n",
       "49973    2015\n",
       "Name: Date of Meal, Length: 49974, dtype: int64"
      ]
     },
     "execution_count": 127,
     "metadata": {},
     "output_type": "execute_result"
    }
   ],
   "source": [
    "invoices['Date of Meal'].dt.year"
   ]
  },
  {
   "cell_type": "code",
   "execution_count": 141,
   "metadata": {},
   "outputs": [
    {
     "data": {
      "text/plain": [
       "0        False\n",
       "1        False\n",
       "         ...  \n",
       "49972    False\n",
       "49973    False\n",
       "Name: Date of Meal, Length: 49974, dtype: bool"
      ]
     },
     "execution_count": 141,
     "metadata": {},
     "output_type": "execute_result"
    }
   ],
   "source": [
    "invoices['Date of Meal'].dt.is_month_end"
   ]
  },
  {
   "cell_type": "code",
   "execution_count": 140,
   "metadata": {},
   "outputs": [
    {
     "data": {
      "text/html": [
       "<div>\n",
       "<style scoped>\n",
       "    .dataframe tbody tr th:only-of-type {\n",
       "        vertical-align: middle;\n",
       "    }\n",
       "\n",
       "    .dataframe tbody tr th {\n",
       "        vertical-align: top;\n",
       "    }\n",
       "\n",
       "    .dataframe thead th {\n",
       "        text-align: right;\n",
       "    }\n",
       "</style>\n",
       "<table border=\"1\" class=\"dataframe\">\n",
       "  <thead>\n",
       "    <tr style=\"text-align: right;\">\n",
       "      <th></th>\n",
       "      <th>Order Id</th>\n",
       "      <th>Date</th>\n",
       "      <th>Meal Id</th>\n",
       "      <th>Company Id</th>\n",
       "      <th>Date of Meal</th>\n",
       "      <th>Participants</th>\n",
       "      <th>Meal Price</th>\n",
       "      <th>Type of Meal</th>\n",
       "      <th>Heroes Adjustment</th>\n",
       "    </tr>\n",
       "  </thead>\n",
       "  <tbody>\n",
       "    <tr>\n",
       "      <th>33</th>\n",
       "      <td>4N35C70QAIOT8LKP</td>\n",
       "      <td>2017-02-27</td>\n",
       "      <td>OMI95VT3QFN3R1GD</td>\n",
       "      <td>T8EYA0DUDZ08UWF4</td>\n",
       "      <td>2017-02-28 07:00:00</td>\n",
       "      <td>['Marcia Smith']</td>\n",
       "      <td>199.0</td>\n",
       "      <td>Breakfast</td>\n",
       "      <td>False</td>\n",
       "    </tr>\n",
       "    <tr>\n",
       "      <th>37</th>\n",
       "      <td>BQPDU42U4TO8GC87</td>\n",
       "      <td>2015-11-30</td>\n",
       "      <td>81N96PHFOOWH2F4C</td>\n",
       "      <td>B02E3P4QE278174C</td>\n",
       "      <td>2015-11-30 11:00:00</td>\n",
       "      <td>['Merrill Anderson']</td>\n",
       "      <td>446.0</td>\n",
       "      <td>Lunch</td>\n",
       "      <td>False</td>\n",
       "    </tr>\n",
       "    <tr>\n",
       "      <th>...</th>\n",
       "      <td>...</td>\n",
       "      <td>...</td>\n",
       "      <td>...</td>\n",
       "      <td>...</td>\n",
       "      <td>...</td>\n",
       "      <td>...</td>\n",
       "      <td>...</td>\n",
       "      <td>...</td>\n",
       "      <td>...</td>\n",
       "    </tr>\n",
       "    <tr>\n",
       "      <th>49948</th>\n",
       "      <td>U0FBPKDTAWFCN7KD</td>\n",
       "      <td>2016-11-30</td>\n",
       "      <td>RJGIF6LKVLGM5AIC</td>\n",
       "      <td>MG9YJE2ZEYJ0AS5E</td>\n",
       "      <td>2016-11-30 11:00:00</td>\n",
       "      <td>['Michelle Rodriguez']</td>\n",
       "      <td>700.0</td>\n",
       "      <td>Lunch</td>\n",
       "      <td>False</td>\n",
       "    </tr>\n",
       "    <tr>\n",
       "      <th>49951</th>\n",
       "      <td>ZF1SOBEWNYAOE8M1</td>\n",
       "      <td>2014-07-29</td>\n",
       "      <td>B1F4NU6IIH0JUKST</td>\n",
       "      <td>MG9YJE2ZEYJ0AS5E</td>\n",
       "      <td>2014-07-31 10:00:00</td>\n",
       "      <td>['Michelle Rodriguez']</td>\n",
       "      <td>673.0</td>\n",
       "      <td>Lunch</td>\n",
       "      <td>False</td>\n",
       "    </tr>\n",
       "  </tbody>\n",
       "</table>\n",
       "<p>1640 rows × 9 columns</p>\n",
       "</div>"
      ],
      "text/plain": [
       "               Order Id       Date           Meal Id        Company Id  \\\n",
       "33     4N35C70QAIOT8LKP 2017-02-27  OMI95VT3QFN3R1GD  T8EYA0DUDZ08UWF4   \n",
       "37     BQPDU42U4TO8GC87 2015-11-30  81N96PHFOOWH2F4C  B02E3P4QE278174C   \n",
       "...                 ...        ...               ...               ...   \n",
       "49948  U0FBPKDTAWFCN7KD 2016-11-30  RJGIF6LKVLGM5AIC  MG9YJE2ZEYJ0AS5E   \n",
       "49951  ZF1SOBEWNYAOE8M1 2014-07-29  B1F4NU6IIH0JUKST  MG9YJE2ZEYJ0AS5E   \n",
       "\n",
       "             Date of Meal            Participants  Meal Price Type of Meal  \\\n",
       "33    2017-02-28 07:00:00        ['Marcia Smith']       199.0    Breakfast   \n",
       "37    2015-11-30 11:00:00    ['Merrill Anderson']       446.0        Lunch   \n",
       "...                   ...                     ...         ...          ...   \n",
       "49948 2016-11-30 11:00:00  ['Michelle Rodriguez']       700.0        Lunch   \n",
       "49951 2014-07-31 10:00:00  ['Michelle Rodriguez']       673.0        Lunch   \n",
       "\n",
       "       Heroes Adjustment  \n",
       "33                 False  \n",
       "37                 False  \n",
       "...                  ...  \n",
       "49948              False  \n",
       "49951              False  \n",
       "\n",
       "[1640 rows x 9 columns]"
      ]
     },
     "execution_count": 140,
     "metadata": {},
     "output_type": "execute_result"
    }
   ],
   "source": [
    "invoices[invoices['Date of Meal'].dt.is_month_end]"
   ]
  },
  {
   "cell_type": "code",
   "execution_count": 171,
   "metadata": {},
   "outputs": [
    {
     "data": {
      "text/plain": [
       "array([datetime.datetime(2015, 1, 29, 8, 0),\n",
       "       datetime.datetime(2017, 10, 30, 20, 0),\n",
       "       datetime.datetime(2015, 2, 10, 11, 0), ...,\n",
       "       datetime.datetime(2017, 3, 7, 19, 0),\n",
       "       datetime.datetime(2017, 9, 6, 6, 0),\n",
       "       datetime.datetime(2015, 8, 20, 18, 0)], dtype=object)"
      ]
     },
     "execution_count": 171,
     "metadata": {},
     "output_type": "execute_result"
    }
   ],
   "source": [
    "invoices['Date of Meal'].dt.to_pydatetime()"
   ]
  },
  {
   "cell_type": "code",
   "execution_count": 172,
   "metadata": {},
   "outputs": [
    {
     "data": {
      "text/plain": [
       "0       2015-01-26/2015-02-01\n",
       "1       2017-10-30/2017-11-05\n",
       "                 ...         \n",
       "49972   2017-09-04/2017-09-10\n",
       "49973   2015-08-17/2015-08-23\n",
       "Name: Date of Meal, Length: 49974, dtype: object"
      ]
     },
     "execution_count": 172,
     "metadata": {},
     "output_type": "execute_result"
    }
   ],
   "source": [
    "invoices['Date of Meal'].dt.to_period('W')"
   ]
  },
  {
   "cell_type": "code",
   "execution_count": 179,
   "metadata": {},
   "outputs": [
    {
     "data": {
      "text/plain": [
       "0        0\n",
       "1        0\n",
       "        ..\n",
       "49972    0\n",
       "49973    0\n",
       "Name: Date of Meal, Length: 49974, dtype: int64"
      ]
     },
     "execution_count": 179,
     "metadata": {},
     "output_type": "execute_result"
    }
   ],
   "source": [
    "invoices['Date of Meal'].dt.minute"
   ]
  },
  {
   "cell_type": "markdown",
   "metadata": {},
   "source": [
    "## accessor - str"
   ]
  },
  {
   "cell_type": "code",
   "execution_count": 202,
   "metadata": {},
   "outputs": [],
   "source": [
    "pd.set_option('display.max_rows', 200)"
   ]
  },
  {
   "cell_type": "code",
   "execution_count": 203,
   "metadata": {},
   "outputs": [
    {
     "data": {
      "text/plain": [
       "0                                       [\"Wayne Johnston\"]\n",
       "1                                       [\"Wayne Johnston\"]\n",
       "2                                         [\"Edwin Murray\"]\n",
       "3                                       [\"Wayne Johnston\"]\n",
       "4                                       [\"Wayne Johnston\"]\n",
       "5                                       [\"Wayne Johnston\"]\n",
       "6                                         [\"Edwin Murray\"]\n",
       "7                                       [\"Wayne Johnston\"]\n",
       "8                                       [\"Wayne Johnston\"]\n",
       "9                                         [\"Edwin Murray\"]\n",
       "10                                        [\"Irene Patton\"]\n",
       "11                                       [\"David Frohman\"]\n",
       "12                                       [\"Irene Mckeown\"]\n",
       "13       [\"Irene Patton\",\"Shawn Carpenter\",\"Joseph Evans\"]\n",
       "14                                        [\"Joseph Evans\"]\n",
       "15                        [\"David Frohman\",\"Joseph Evans\"]\n",
       "16       [\"Irene Mckeown\",\"Irene Patton\",\"Joseph Evans\"...\n",
       "17                                       [\"Irene Mckeown\"]\n",
       "18                            [\"Ron Dulac\",\"Joseph Evans\"]\n",
       "19       [\"Shawn Carpenter\",\"Ron Dulac\",\"David Frohman\"...\n",
       "20                                        [\"Joseph Evans\"]\n",
       "21       [\"David Frohman\",\"Irene Mckeown\",\"Shawn Carpen...\n",
       "22       [\"Ron Dulac\",\"Irene Mckeown\",\"Irene Patton\",\"S...\n",
       "23       [\"Joseph Evans\",\"Shawn Carpenter\",\"David Frohm...\n",
       "24                                        [\"Marcia Smith\"]\n",
       "25                                        [\"Marcia Smith\"]\n",
       "26                                        [\"Marcia Smith\"]\n",
       "27                                        [\"Marcia Smith\"]\n",
       "28                                        [\"Marcia Smith\"]\n",
       "29                                        [\"Marcia Smith\"]\n",
       "30                                        [\"Marcia Smith\"]\n",
       "31                                        [\"Marcia Smith\"]\n",
       "32                                        [\"Marcia Smith\"]\n",
       "33                                        [\"Marcia Smith\"]\n",
       "34                                        [\"Marcia Smith\"]\n",
       "35                                        [\"Marcia Smith\"]\n",
       "36                                    [\"Merrill Anderson\"]\n",
       "37                                    [\"Merrill Anderson\"]\n",
       "38                                       [\"Charles Adams\"]\n",
       "39                                    [\"Merrill Anderson\"]\n",
       "40                                    [\"Merrill Anderson\"]\n",
       "41                                    [\"Merrill Anderson\"]\n",
       "42                                       [\"Charles Adams\"]\n",
       "43                                    [\"Merrill Anderson\"]\n",
       "44                                       [\"Charles Adams\"]\n",
       "45                                       [\"Charles Adams\"]\n",
       "46                                      [\"Margaret Crank\"]\n",
       "47                                        [\"Donald Black\"]\n",
       "48       [\"Margaret Crank\",\"John Luttrell\",\"Joyce Mille...\n",
       "49       [\"Margaret Crank\",\"Nicholas Yasutake\",\"John Lu...\n",
       "50         [\"Andrew Dawson\",\"Donald Black\",\"Joyce Miller\"]\n",
       "51       [\"Donald Black\",\"Margaret Crank\",\"Andrew Dawso...\n",
       "52                                       [\"Andrew Dawson\"]\n",
       "53       [\"Donald Black\",\"Andrew Dawson\",\"Nicholas Yasu...\n",
       "54       [\"Norman Grant\",\"Henry Hall\",\"Joseph Austin\",\"...\n",
       "55       [\"Joseph Austin\",\"Clarence Thompson\",\"Dennis W...\n",
       "56                                       [\"Dennis Wilkes\"]\n",
       "57       [\"Clarence Thompson\",\"Joseph Austin\",\"Dennis W...\n",
       "58                                        [\"Norman Grant\"]\n",
       "59                                        [\"Norman Grant\"]\n",
       "60       [\"Norman Grant\",\"Henry Hall\",\"Clarence Thompso...\n",
       "61       [\"Dennis Wilkes\",\"Joseph Austin\",\"Henry Hall\",...\n",
       "62                                        [\"Norman Grant\"]\n",
       "63       [\"Dennis Wilkes\",\"Clarence Thompson\",\"Joseph A...\n",
       "64                                          [\"Henry Hall\"]\n",
       "65           [\"Joseph Austin\",\"Norman Grant\",\"Henry Hall\"]\n",
       "66       [\"Clarence Thompson\",\"Dennis Wilkes\",\"Joseph A...\n",
       "67                    [\"Norman Grant\",\"Clarence Thompson\"]\n",
       "68                                   [\"Woodrow Hutchison\"]\n",
       "69                                   [\"Woodrow Hutchison\"]\n",
       "70                                   [\"Woodrow Hutchison\"]\n",
       "71                                   [\"Woodrow Hutchison\"]\n",
       "72                                   [\"Woodrow Hutchison\"]\n",
       "73                                   [\"Woodrow Hutchison\"]\n",
       "74                                   [\"Woodrow Hutchison\"]\n",
       "75                                   [\"Woodrow Hutchison\"]\n",
       "76                                   [\"Woodrow Hutchison\"]\n",
       "77                                   [\"Woodrow Hutchison\"]\n",
       "78                                   [\"Woodrow Hutchison\"]\n",
       "79                                   [\"Woodrow Hutchison\"]\n",
       "80                                   [\"Woodrow Hutchison\"]\n",
       "81                                   [\"Woodrow Hutchison\"]\n",
       "82       [\"Michelle Lacoy\",\"Juan Trudeau\",\"Manuel Oswald\"]\n",
       "83                                       [\"Manuel Oswald\"]\n",
       "84                                       [\"Manuel Oswald\"]\n",
       "85                                          [\"Aaron Wall\"]\n",
       "86         [\"Michelle Lacoy\",\"Manuel Oswald\",\"Aaron Wall\"]\n",
       "87                        [\"Juan Trudeau\",\"Manuel Oswald\"]\n",
       "88                                          [\"Aaron Wall\"]\n",
       "89                       [\"Juan Trudeau\",\"Michelle Lacoy\"]\n",
       "90                       [\"Juan Trudeau\",\"Michelle Lacoy\"]\n",
       "91                         [\"Michelle Lacoy\",\"Aaron Wall\"]\n",
       "92                                       [\"Manuel Oswald\"]\n",
       "93                         [\"Aaron Wall\",\"Michelle Lacoy\"]\n",
       "94                                          [\"Aaron Wall\"]\n",
       "95                                       [\"David Allison\"]\n",
       "96                                       [\"David Allison\"]\n",
       "97                                        [\"Dianne Beach\"]\n",
       "98                                        [\"Dianne Beach\"]\n",
       "99                                       [\"David Allison\"]\n",
       "                               ...                        \n",
       "49874                                     [\"Raymond King\"]\n",
       "49875      [\"Raymond King\",\"Mary Walker\",\"George Leonard\"]\n",
       "49876                 [\"Bette Heredia\",\"Elizabeth Obrien\"]\n",
       "49877                                 [\"Elizabeth Obrien\"]\n",
       "49878                [\"Kevin Gallaway\",\"Elizabeth Obrien\"]\n",
       "49879                                   [\"Kevin Gallaway\"]\n",
       "49880                                   [\"Kevin Gallaway\"]\n",
       "49881                                    [\"Bette Heredia\"]\n",
       "49882                 [\"Elizabeth Obrien\",\"Bette Heredia\"]\n",
       "49883                                    [\"Colleen Vesco\"]\n",
       "49884                                    [\"Colleen Vesco\"]\n",
       "49885                                    [\"Colleen Vesco\"]\n",
       "49886                                    [\"Colleen Vesco\"]\n",
       "49887                                    [\"Colleen Vesco\"]\n",
       "49888                                    [\"Colleen Vesco\"]\n",
       "49889                                    [\"Colleen Vesco\"]\n",
       "49890                                    [\"Colleen Vesco\"]\n",
       "49891                                    [\"Colleen Vesco\"]\n",
       "49892                                    [\"Colleen Vesco\"]\n",
       "49893                                    [\"Colleen Vesco\"]\n",
       "49894                                 [\"Julie Haverstock\"]\n",
       "49895                                 [\"Julie Haverstock\"]\n",
       "49896                                  [\"Miguel Richmond\"]\n",
       "49897                                       [\"Juan Saenz\"]\n",
       "49898               [\"Julie Haverstock\",\"Miguel Richmond\"]\n",
       "49899                     [\"Juan Saenz\",\"Miguel Richmond\"]\n",
       "49900                                       [\"Juan Saenz\"]\n",
       "49901                                 [\"Julie Haverstock\"]\n",
       "49902                                  [\"Miguel Richmond\"]\n",
       "49903                                  [\"Miguel Richmond\"]\n",
       "49904                                    [\"Robert Torres\"]\n",
       "49905    [\"Richard Allmand\",\"Emily Sayre\",\"Raymond Coop...\n",
       "49906                                   [\"Raymond Cooper\"]\n",
       "49907                     [\"Emily Sayre\",\"Raymond Cooper\"]\n",
       "49908                                      [\"Emily Sayre\"]\n",
       "49909    [\"Lisa Schmidt\",\"Robert Torres\",\"Richard Allma...\n",
       "49910     [\"Ronald Nolazco\",\"Emily Sayre\",\"Robert Torres\"]\n",
       "49911                                      [\"Emily Sayre\"]\n",
       "49912                                      [\"Emily Sayre\"]\n",
       "49913                    [\"Lisa Schmidt\",\"Ronald Nolazco\"]\n",
       "49914                      [\"Emily Sayre\",\"Robert Torres\"]\n",
       "49915    [\"Robert Torres\",\"Lisa Schmidt\",\"Ronald Nolazc...\n",
       "49916                                   [\"Raymond Cooper\"]\n",
       "49917                                      [\"Emily Sayre\"]\n",
       "49918                                 [\"William Lovisone\"]\n",
       "49919                                 [\"William Lovisone\"]\n",
       "49920                                    [\"David Mendoza\"]\n",
       "49921                                 [\"William Lovisone\"]\n",
       "49922                                    [\"David Mendoza\"]\n",
       "49923                                    [\"David Mendoza\"]\n",
       "49924                                 [\"William Lovisone\"]\n",
       "49925                                  [\"Andrea Faulkner\"]\n",
       "49926                                  [\"Andrea Faulkner\"]\n",
       "49927                                  [\"Andrea Faulkner\"]\n",
       "49928                                  [\"Andrea Faulkner\"]\n",
       "49929                                  [\"Andrea Faulkner\"]\n",
       "49930                                  [\"Andrea Faulkner\"]\n",
       "49931                                  [\"Andrea Faulkner\"]\n",
       "49932                                  [\"Andrea Faulkner\"]\n",
       "49933                                  [\"Andrea Faulkner\"]\n",
       "49934                                  [\"Andrea Faulkner\"]\n",
       "49935                                  [\"Andrea Faulkner\"]\n",
       "49936                                  [\"Andrea Faulkner\"]\n",
       "49937                                  [\"Andrea Faulkner\"]\n",
       "49938                                  [\"Andrea Faulkner\"]\n",
       "49939                                  [\"Andrea Faulkner\"]\n",
       "49940                                  [\"Andrea Faulkner\"]\n",
       "49941                                  [\"Andrea Faulkner\"]\n",
       "49942                                       [\"Erik Tripp\"]\n",
       "49943                                    [\"Joshua Deleon\"]\n",
       "49944                                       [\"Erik Tripp\"]\n",
       "49945                                    [\"Joshua Deleon\"]\n",
       "49946                                    [\"Joshua Deleon\"]\n",
       "49947                               [\"Michelle Rodriguez\"]\n",
       "49948                               [\"Michelle Rodriguez\"]\n",
       "49949                               [\"Michelle Rodriguez\"]\n",
       "49950                               [\"Michelle Rodriguez\"]\n",
       "49951                               [\"Michelle Rodriguez\"]\n",
       "49952                               [\"Michelle Rodriguez\"]\n",
       "49953                                      [\"Jerome Bain\"]\n",
       "49954                                      [\"Jerome Bain\"]\n",
       "49955                                      [\"Jerome Bain\"]\n",
       "49956                                      [\"Jerome Bain\"]\n",
       "49957                                      [\"Jerome Bain\"]\n",
       "49958                                      [\"Jerome Bain\"]\n",
       "49959                                      [\"Jerome Bain\"]\n",
       "49960                                      [\"Jerome Bain\"]\n",
       "49961                                      [\"Jerome Bain\"]\n",
       "49962                                      [\"Jerome Bain\"]\n",
       "49963                                      [\"Jerome Bain\"]\n",
       "49964                                      [\"Jerome Bain\"]\n",
       "49965                                      [\"Jerome Bain\"]\n",
       "49966                                      [\"Jerome Bain\"]\n",
       "49967                                    [\"Pedro Jackson\"]\n",
       "49968                                    [\"Pedro Jackson\"]\n",
       "49969                                    [\"Pedro Jackson\"]\n",
       "49970                                    [\"Pedro Jackson\"]\n",
       "49971                                    [\"Pedro Jackson\"]\n",
       "49972                                    [\"Pedro Jackson\"]\n",
       "49973                                    [\"Pedro Jackson\"]\n",
       "Name: Participants, Length: 49974, dtype: object"
      ]
     },
     "execution_count": 203,
     "metadata": {},
     "output_type": "execute_result"
    }
   ],
   "source": [
    "%timeit\n",
    "invoices['Participants'].str.replace(\"\\n \",\",\").str.replace(\"' '\",\"','\").str.replace(\"'\",'\"')"
   ]
  },
  {
   "cell_type": "markdown",
   "metadata": {},
   "source": [
    "## accessor - cat"
   ]
  },
  {
   "cell_type": "code",
   "execution_count": 90,
   "metadata": {},
   "outputs": [
    {
     "data": {
      "text/plain": [
       "False"
      ]
     },
     "execution_count": 90,
     "metadata": {},
     "output_type": "execute_result"
    }
   ],
   "source": [
    "invoices['Type of Meal'].cat.ordered"
   ]
  },
  {
   "cell_type": "code",
   "execution_count": 94,
   "metadata": {},
   "outputs": [
    {
     "data": {
      "text/plain": [
       "Index(['Breakfast', 'Dinner', 'Lunch'], dtype='object')"
      ]
     },
     "execution_count": 94,
     "metadata": {},
     "output_type": "execute_result"
    }
   ],
   "source": [
    "invoices['Type of Meal'].cat.categories"
   ]
  },
  {
   "cell_type": "code",
   "execution_count": 93,
   "metadata": {},
   "outputs": [
    {
     "data": {
      "text/plain": [
       "0        0\n",
       "1        1\n",
       "2        2\n",
       "3        2\n",
       "4        2\n",
       "        ..\n",
       "49969    1\n",
       "49970    2\n",
       "49971    1\n",
       "49972    0\n",
       "49973    1\n",
       "Length: 49974, dtype: int8"
      ]
     },
     "execution_count": 93,
     "metadata": {},
     "output_type": "execute_result"
    }
   ],
   "source": [
    "invoices['Type of Meal'].cat.codes"
   ]
  },
  {
   "cell_type": "code",
   "execution_count": 88,
   "metadata": {},
   "outputs": [
    {
     "data": {
      "text/plain": [
       "0        Breakfast\n",
       "1           Dinner\n",
       "2            Lunch\n",
       "3            Lunch\n",
       "4            Lunch\n",
       "           ...    \n",
       "49969       Dinner\n",
       "49970        Lunch\n",
       "49971       Dinner\n",
       "49972    Breakfast\n",
       "49973       Dinner\n",
       "Name: Type of Meal, Length: 49974, dtype: category\n",
       "Categories (3, object): [Lunch, Breakfast, Dinner]"
      ]
     },
     "execution_count": 88,
     "metadata": {},
     "output_type": "execute_result"
    }
   ],
   "source": [
    "invoices['Type of Meal'].cat.reorder_categories(['Lunch','Breakfast','Dinner'])"
   ]
  },
  {
   "cell_type": "code",
   "execution_count": 92,
   "metadata": {},
   "outputs": [
    {
     "data": {
      "text/plain": [
       "0        0\n",
       "1        1\n",
       "2        2\n",
       "3        2\n",
       "4        2\n",
       "        ..\n",
       "49969    1\n",
       "49970    2\n",
       "49971    1\n",
       "49972    0\n",
       "49973    1\n",
       "Length: 49974, dtype: int8"
      ]
     },
     "execution_count": 92,
     "metadata": {},
     "output_type": "execute_result"
    }
   ],
   "source": []
  },
  {
   "cell_type": "code",
   "execution_count": null,
   "metadata": {},
   "outputs": [],
   "source": [
    "a."
   ]
  },
  {
   "cell_type": "code",
   "execution_count": 7,
   "metadata": {},
   "outputs": [
    {
     "data": {
      "text/plain": [
       "0       -4 days +16:00:00\n",
       "1         1 days 04:00:00\n",
       "2         4 days 13:00:00\n",
       "3         1 days 12:00:00\n",
       "4       -2 days +13:00:00\n",
       "               ...       \n",
       "49969   -1 days +06:00:00\n",
       "49970   -2 days +14:00:00\n",
       "49971   -4 days +05:00:00\n",
       "49972     4 days 18:00:00\n",
       "49973     4 days 06:00:00\n",
       "Length: 49974, dtype: timedelta64[ns]"
      ]
     },
     "execution_count": 7,
     "metadata": {},
     "output_type": "execute_result"
    }
   ],
   "source": [
    "invoices['Date'] - invoices['Date of Meal']"
   ]
  },
  {
   "cell_type": "code",
   "execution_count": 77,
   "metadata": {},
   "outputs": [],
   "source": [
    "pd.DatetimeIndex.tz_localize?"
   ]
  },
  {
   "cell_type": "code",
   "execution_count": 107,
   "metadata": {},
   "outputs": [],
   "source": []
  },
  {
   "cell_type": "code",
   "execution_count": 112,
   "metadata": {},
   "outputs": [
    {
     "ename": "ValueError",
     "evalue": "invalid literal for int() with base 10: 'Me too'",
     "output_type": "error",
     "traceback": [
      "\u001b[0;31m---------------------------------------------------------------------------\u001b[0m",
      "\u001b[0;31mValueError\u001b[0m                                Traceback (most recent call last)",
      "\u001b[0;32m<ipython-input-112-7a45f8f5d74c>\u001b[0m in \u001b[0;36m<module>\u001b[0;34m\u001b[0m\n\u001b[0;32m----> 1\u001b[0;31m \u001b[0minvoices\u001b[0m\u001b[0;34m[\u001b[0m\u001b[0;34m'Meal Price'\u001b[0m\u001b[0;34m]\u001b[0m\u001b[0;34m.\u001b[0m\u001b[0mastype\u001b[0m\u001b[0;34m(\u001b[0m\u001b[0mint\u001b[0m\u001b[0;34m)\u001b[0m\u001b[0;34m\u001b[0m\u001b[0;34m\u001b[0m\u001b[0m\n\u001b[0m",
      "\u001b[0;32m~/anaconda3/lib/python3.7/site-packages/pandas/util/_decorators.py\u001b[0m in \u001b[0;36mwrapper\u001b[0;34m(*args, **kwargs)\u001b[0m\n\u001b[1;32m    176\u001b[0m                 \u001b[0;32melse\u001b[0m\u001b[0;34m:\u001b[0m\u001b[0;34m\u001b[0m\u001b[0;34m\u001b[0m\u001b[0m\n\u001b[1;32m    177\u001b[0m                     \u001b[0mkwargs\u001b[0m\u001b[0;34m[\u001b[0m\u001b[0mnew_arg_name\u001b[0m\u001b[0;34m]\u001b[0m \u001b[0;34m=\u001b[0m \u001b[0mnew_arg_value\u001b[0m\u001b[0;34m\u001b[0m\u001b[0;34m\u001b[0m\u001b[0m\n\u001b[0;32m--> 178\u001b[0;31m             \u001b[0;32mreturn\u001b[0m \u001b[0mfunc\u001b[0m\u001b[0;34m(\u001b[0m\u001b[0;34m*\u001b[0m\u001b[0margs\u001b[0m\u001b[0;34m,\u001b[0m \u001b[0;34m**\u001b[0m\u001b[0mkwargs\u001b[0m\u001b[0;34m)\u001b[0m\u001b[0;34m\u001b[0m\u001b[0;34m\u001b[0m\u001b[0m\n\u001b[0m\u001b[1;32m    179\u001b[0m         \u001b[0;32mreturn\u001b[0m \u001b[0mwrapper\u001b[0m\u001b[0;34m\u001b[0m\u001b[0;34m\u001b[0m\u001b[0m\n\u001b[1;32m    180\u001b[0m     \u001b[0;32mreturn\u001b[0m \u001b[0m_deprecate_kwarg\u001b[0m\u001b[0;34m\u001b[0m\u001b[0;34m\u001b[0m\u001b[0m\n",
      "\u001b[0;32m~/anaconda3/lib/python3.7/site-packages/pandas/core/generic.py\u001b[0m in \u001b[0;36mastype\u001b[0;34m(self, dtype, copy, errors, **kwargs)\u001b[0m\n\u001b[1;32m   4999\u001b[0m             \u001b[0;31m# else, only a single dtype is given\u001b[0m\u001b[0;34m\u001b[0m\u001b[0;34m\u001b[0m\u001b[0;34m\u001b[0m\u001b[0m\n\u001b[1;32m   5000\u001b[0m             new_data = self._data.astype(dtype=dtype, copy=copy, errors=errors,\n\u001b[0;32m-> 5001\u001b[0;31m                                          **kwargs)\n\u001b[0m\u001b[1;32m   5002\u001b[0m             \u001b[0;32mreturn\u001b[0m \u001b[0mself\u001b[0m\u001b[0;34m.\u001b[0m\u001b[0m_constructor\u001b[0m\u001b[0;34m(\u001b[0m\u001b[0mnew_data\u001b[0m\u001b[0;34m)\u001b[0m\u001b[0;34m.\u001b[0m\u001b[0m__finalize__\u001b[0m\u001b[0;34m(\u001b[0m\u001b[0mself\u001b[0m\u001b[0;34m)\u001b[0m\u001b[0;34m\u001b[0m\u001b[0;34m\u001b[0m\u001b[0m\n\u001b[1;32m   5003\u001b[0m \u001b[0;34m\u001b[0m\u001b[0m\n",
      "\u001b[0;32m~/anaconda3/lib/python3.7/site-packages/pandas/core/internals.py\u001b[0m in \u001b[0;36mastype\u001b[0;34m(self, dtype, **kwargs)\u001b[0m\n\u001b[1;32m   3712\u001b[0m \u001b[0;34m\u001b[0m\u001b[0m\n\u001b[1;32m   3713\u001b[0m     \u001b[0;32mdef\u001b[0m \u001b[0mastype\u001b[0m\u001b[0;34m(\u001b[0m\u001b[0mself\u001b[0m\u001b[0;34m,\u001b[0m \u001b[0mdtype\u001b[0m\u001b[0;34m,\u001b[0m \u001b[0;34m**\u001b[0m\u001b[0mkwargs\u001b[0m\u001b[0;34m)\u001b[0m\u001b[0;34m:\u001b[0m\u001b[0;34m\u001b[0m\u001b[0;34m\u001b[0m\u001b[0m\n\u001b[0;32m-> 3714\u001b[0;31m         \u001b[0;32mreturn\u001b[0m \u001b[0mself\u001b[0m\u001b[0;34m.\u001b[0m\u001b[0mapply\u001b[0m\u001b[0;34m(\u001b[0m\u001b[0;34m'astype'\u001b[0m\u001b[0;34m,\u001b[0m \u001b[0mdtype\u001b[0m\u001b[0;34m=\u001b[0m\u001b[0mdtype\u001b[0m\u001b[0;34m,\u001b[0m \u001b[0;34m**\u001b[0m\u001b[0mkwargs\u001b[0m\u001b[0;34m)\u001b[0m\u001b[0;34m\u001b[0m\u001b[0;34m\u001b[0m\u001b[0m\n\u001b[0m\u001b[1;32m   3715\u001b[0m \u001b[0;34m\u001b[0m\u001b[0m\n\u001b[1;32m   3716\u001b[0m     \u001b[0;32mdef\u001b[0m \u001b[0mconvert\u001b[0m\u001b[0;34m(\u001b[0m\u001b[0mself\u001b[0m\u001b[0;34m,\u001b[0m \u001b[0;34m**\u001b[0m\u001b[0mkwargs\u001b[0m\u001b[0;34m)\u001b[0m\u001b[0;34m:\u001b[0m\u001b[0;34m\u001b[0m\u001b[0;34m\u001b[0m\u001b[0m\n",
      "\u001b[0;32m~/anaconda3/lib/python3.7/site-packages/pandas/core/internals.py\u001b[0m in \u001b[0;36mapply\u001b[0;34m(self, f, axes, filter, do_integrity_check, consolidate, **kwargs)\u001b[0m\n\u001b[1;32m   3579\u001b[0m \u001b[0;34m\u001b[0m\u001b[0m\n\u001b[1;32m   3580\u001b[0m             \u001b[0mkwargs\u001b[0m\u001b[0;34m[\u001b[0m\u001b[0;34m'mgr'\u001b[0m\u001b[0;34m]\u001b[0m \u001b[0;34m=\u001b[0m \u001b[0mself\u001b[0m\u001b[0;34m\u001b[0m\u001b[0;34m\u001b[0m\u001b[0m\n\u001b[0;32m-> 3581\u001b[0;31m             \u001b[0mapplied\u001b[0m \u001b[0;34m=\u001b[0m \u001b[0mgetattr\u001b[0m\u001b[0;34m(\u001b[0m\u001b[0mb\u001b[0m\u001b[0;34m,\u001b[0m \u001b[0mf\u001b[0m\u001b[0;34m)\u001b[0m\u001b[0;34m(\u001b[0m\u001b[0;34m**\u001b[0m\u001b[0mkwargs\u001b[0m\u001b[0;34m)\u001b[0m\u001b[0;34m\u001b[0m\u001b[0;34m\u001b[0m\u001b[0m\n\u001b[0m\u001b[1;32m   3582\u001b[0m             \u001b[0mresult_blocks\u001b[0m \u001b[0;34m=\u001b[0m \u001b[0m_extend_blocks\u001b[0m\u001b[0;34m(\u001b[0m\u001b[0mapplied\u001b[0m\u001b[0;34m,\u001b[0m \u001b[0mresult_blocks\u001b[0m\u001b[0;34m)\u001b[0m\u001b[0;34m\u001b[0m\u001b[0;34m\u001b[0m\u001b[0m\n\u001b[1;32m   3583\u001b[0m \u001b[0;34m\u001b[0m\u001b[0m\n",
      "\u001b[0;32m~/anaconda3/lib/python3.7/site-packages/pandas/core/internals.py\u001b[0m in \u001b[0;36mastype\u001b[0;34m(self, dtype, copy, errors, values, **kwargs)\u001b[0m\n\u001b[1;32m    573\u001b[0m     \u001b[0;32mdef\u001b[0m \u001b[0mastype\u001b[0m\u001b[0;34m(\u001b[0m\u001b[0mself\u001b[0m\u001b[0;34m,\u001b[0m \u001b[0mdtype\u001b[0m\u001b[0;34m,\u001b[0m \u001b[0mcopy\u001b[0m\u001b[0;34m=\u001b[0m\u001b[0;32mFalse\u001b[0m\u001b[0;34m,\u001b[0m \u001b[0merrors\u001b[0m\u001b[0;34m=\u001b[0m\u001b[0;34m'raise'\u001b[0m\u001b[0;34m,\u001b[0m \u001b[0mvalues\u001b[0m\u001b[0;34m=\u001b[0m\u001b[0;32mNone\u001b[0m\u001b[0;34m,\u001b[0m \u001b[0;34m**\u001b[0m\u001b[0mkwargs\u001b[0m\u001b[0;34m)\u001b[0m\u001b[0;34m:\u001b[0m\u001b[0;34m\u001b[0m\u001b[0;34m\u001b[0m\u001b[0m\n\u001b[1;32m    574\u001b[0m         return self._astype(dtype, copy=copy, errors=errors, values=values,\n\u001b[0;32m--> 575\u001b[0;31m                             **kwargs)\n\u001b[0m\u001b[1;32m    576\u001b[0m \u001b[0;34m\u001b[0m\u001b[0m\n\u001b[1;32m    577\u001b[0m     def _astype(self, dtype, copy=False, errors='raise', values=None,\n",
      "\u001b[0;32m~/anaconda3/lib/python3.7/site-packages/pandas/core/internals.py\u001b[0m in \u001b[0;36m_astype\u001b[0;34m(self, dtype, copy, errors, values, klass, mgr, **kwargs)\u001b[0m\n\u001b[1;32m    662\u001b[0m \u001b[0;34m\u001b[0m\u001b[0m\n\u001b[1;32m    663\u001b[0m                 \u001b[0;31m# _astype_nansafe works fine with 1-d only\u001b[0m\u001b[0;34m\u001b[0m\u001b[0;34m\u001b[0m\u001b[0;34m\u001b[0m\u001b[0m\n\u001b[0;32m--> 664\u001b[0;31m                 \u001b[0mvalues\u001b[0m \u001b[0;34m=\u001b[0m \u001b[0mastype_nansafe\u001b[0m\u001b[0;34m(\u001b[0m\u001b[0mvalues\u001b[0m\u001b[0;34m.\u001b[0m\u001b[0mravel\u001b[0m\u001b[0;34m(\u001b[0m\u001b[0;34m)\u001b[0m\u001b[0;34m,\u001b[0m \u001b[0mdtype\u001b[0m\u001b[0;34m,\u001b[0m \u001b[0mcopy\u001b[0m\u001b[0;34m=\u001b[0m\u001b[0;32mTrue\u001b[0m\u001b[0;34m)\u001b[0m\u001b[0;34m\u001b[0m\u001b[0;34m\u001b[0m\u001b[0m\n\u001b[0m\u001b[1;32m    665\u001b[0m                 \u001b[0mvalues\u001b[0m \u001b[0;34m=\u001b[0m \u001b[0mvalues\u001b[0m\u001b[0;34m.\u001b[0m\u001b[0mreshape\u001b[0m\u001b[0;34m(\u001b[0m\u001b[0mself\u001b[0m\u001b[0;34m.\u001b[0m\u001b[0mshape\u001b[0m\u001b[0;34m)\u001b[0m\u001b[0;34m\u001b[0m\u001b[0;34m\u001b[0m\u001b[0m\n\u001b[1;32m    666\u001b[0m \u001b[0;34m\u001b[0m\u001b[0m\n",
      "\u001b[0;32m~/anaconda3/lib/python3.7/site-packages/pandas/core/dtypes/cast.py\u001b[0m in \u001b[0;36mastype_nansafe\u001b[0;34m(arr, dtype, copy)\u001b[0m\n\u001b[1;32m    707\u001b[0m         \u001b[0;31m# work around NumPy brokenness, #1987\u001b[0m\u001b[0;34m\u001b[0m\u001b[0;34m\u001b[0m\u001b[0;34m\u001b[0m\u001b[0m\n\u001b[1;32m    708\u001b[0m         \u001b[0;32mif\u001b[0m \u001b[0mnp\u001b[0m\u001b[0;34m.\u001b[0m\u001b[0missubdtype\u001b[0m\u001b[0;34m(\u001b[0m\u001b[0mdtype\u001b[0m\u001b[0;34m.\u001b[0m\u001b[0mtype\u001b[0m\u001b[0;34m,\u001b[0m \u001b[0mnp\u001b[0m\u001b[0;34m.\u001b[0m\u001b[0minteger\u001b[0m\u001b[0;34m)\u001b[0m\u001b[0;34m:\u001b[0m\u001b[0;34m\u001b[0m\u001b[0;34m\u001b[0m\u001b[0m\n\u001b[0;32m--> 709\u001b[0;31m             \u001b[0;32mreturn\u001b[0m \u001b[0mlib\u001b[0m\u001b[0;34m.\u001b[0m\u001b[0mastype_intsafe\u001b[0m\u001b[0;34m(\u001b[0m\u001b[0marr\u001b[0m\u001b[0;34m.\u001b[0m\u001b[0mravel\u001b[0m\u001b[0;34m(\u001b[0m\u001b[0;34m)\u001b[0m\u001b[0;34m,\u001b[0m \u001b[0mdtype\u001b[0m\u001b[0;34m)\u001b[0m\u001b[0;34m.\u001b[0m\u001b[0mreshape\u001b[0m\u001b[0;34m(\u001b[0m\u001b[0marr\u001b[0m\u001b[0;34m.\u001b[0m\u001b[0mshape\u001b[0m\u001b[0;34m)\u001b[0m\u001b[0;34m\u001b[0m\u001b[0;34m\u001b[0m\u001b[0m\n\u001b[0m\u001b[1;32m    710\u001b[0m \u001b[0;34m\u001b[0m\u001b[0m\n\u001b[1;32m    711\u001b[0m         \u001b[0;31m# if we have a datetime/timedelta array of objects\u001b[0m\u001b[0;34m\u001b[0m\u001b[0;34m\u001b[0m\u001b[0;34m\u001b[0m\u001b[0m\n",
      "\u001b[0;32mpandas/_libs/lib.pyx\u001b[0m in \u001b[0;36mpandas._libs.lib.astype_intsafe\u001b[0;34m()\u001b[0m\n",
      "\u001b[0;32mpandas/_libs/src/util.pxd\u001b[0m in \u001b[0;36mutil.set_value_at_unsafe\u001b[0;34m()\u001b[0m\n",
      "\u001b[0;31mValueError\u001b[0m: invalid literal for int() with base 10: 'Me too'"
     ]
    }
   ],
   "source": [
    "invoices['Meal Price'].astype(int)"
   ]
  },
  {
   "cell_type": "code",
   "execution_count": 110,
   "metadata": {},
   "outputs": [
    {
     "data": {
      "text/plain": [
       "0        225.0\n",
       "1        735.0\n",
       "2        256.0\n",
       "3        367.0\n",
       "4          9.0\n",
       "         ...  \n",
       "49772    665.0\n",
       "49773    161.0\n",
       "49774    634.0\n",
       "49775    139.0\n",
       "49776    834.0\n",
       "Name: Meal Price, Length: 49777, dtype: float64"
      ]
     },
     "execution_count": 110,
     "metadata": {},
     "output_type": "execute_result"
    }
   ],
   "source": [
    "pd.to_numeric(invoices['Meal Price'],errors='coerce')"
   ]
  },
  {
   "cell_type": "code",
   "execution_count": null,
   "metadata": {},
   "outputs": [],
   "source": [
    "invoices['Meal Price'].apply(lambda x: type(x)).value_counts()"
   ]
  },
  {
   "cell_type": "code",
   "execution_count": 4,
   "metadata": {},
   "outputs": [],
   "source": [
    "import pandas.util.testing as tm"
   ]
  },
  {
   "cell_type": "code",
   "execution_count": 68,
   "metadata": {},
   "outputs": [
    {
     "data": {
      "text/plain": [
       "Index([False, True, False, False, False, False, False, False, False, False], dtype='object')"
      ]
     },
     "execution_count": 68,
     "metadata": {},
     "output_type": "execute_result"
    }
   ],
   "source": [
    "tm.makeBoolIndex()"
   ]
  },
  {
   "cell_type": "code",
   "execution_count": 5,
   "metadata": {},
   "outputs": [],
   "source": [
    "tm.N, tm.K = 15, 3 "
   ]
  },
  {
   "cell_type": "code",
   "execution_count": 51,
   "metadata": {},
   "outputs": [],
   "source": [
    "berlin_timezone = pytz.timezone('Europe/Berlin')\n",
    "\n",
    "test = pd.DataFrame({\n",
    "    'date_from_first_source':tm.makeDateIndex(),\n",
    "    'date_from_source': [datetime.datetime(2000, 1, np.random.randint(1,25), 8, 15, 12, 0, berlin_timezone) for i in range(10)]\n",
    "})"
   ]
  },
  {
   "cell_type": "code",
   "execution_count": 56,
   "metadata": {},
   "outputs": [],
   "source": [
    "test.to_csv('datetime_test.csv',index=False)\n",
    "test = pd.read_csv('datetime_test.csv')"
   ]
  },
  {
   "cell_type": "code",
   "execution_count": 60,
   "metadata": {},
   "outputs": [
    {
     "data": {
      "text/plain": [
       "0   2000-01-03 07:22:12\n",
       "1   2000-01-24 07:22:12\n",
       "2   2000-01-13 07:22:12\n",
       "3   2000-01-12 07:22:12\n",
       "            ...        \n",
       "6   2000-01-02 07:22:12\n",
       "7   2000-01-12 07:22:12\n",
       "8   2000-01-06 07:22:12\n",
       "9   2000-01-09 07:22:12\n",
       "Name: date_from_source, Length: 10, dtype: datetime64[ns]"
      ]
     },
     "execution_count": 60,
     "metadata": {},
     "output_type": "execute_result"
    }
   ],
   "source": [
    "pd.to_datetime(test['date_from_first_source'])\n",
    "pd.to_datetime(test['date_from_source'])"
   ]
  },
  {
   "cell_type": "code",
   "execution_count": 53,
   "metadata": {},
   "outputs": [
    {
     "ename": "TypeError",
     "evalue": "DatetimeIndex subtraction must have the same timezones or no timezones",
     "output_type": "error",
     "traceback": [
      "\u001b[0;31m---------------------------------------------------------------------------\u001b[0m",
      "\u001b[0;31mTypeError\u001b[0m                                 Traceback (most recent call last)",
      "\u001b[0;32m<ipython-input-53-522e453e1335>\u001b[0m in \u001b[0;36m<module>\u001b[0;34m\u001b[0m\n\u001b[0;32m----> 1\u001b[0;31m \u001b[0mtest\u001b[0m\u001b[0;34m[\u001b[0m\u001b[0;34m'date_from_first_source'\u001b[0m\u001b[0;34m]\u001b[0m \u001b[0;34m-\u001b[0m \u001b[0mtest\u001b[0m\u001b[0;34m[\u001b[0m\u001b[0;34m'date_from_source'\u001b[0m\u001b[0;34m]\u001b[0m\u001b[0;34m\u001b[0m\u001b[0;34m\u001b[0m\u001b[0m\n\u001b[0m",
      "\u001b[0;32m~/anaconda3/lib/python3.7/site-packages/pandas/core/ops.py\u001b[0m in \u001b[0;36mwrapper\u001b[0;34m(left, right)\u001b[0m\n\u001b[1;32m   1047\u001b[0m \u001b[0;34m\u001b[0m\u001b[0m\n\u001b[1;32m   1048\u001b[0m         \u001b[0;32mif\u001b[0m \u001b[0mis_datetime64_dtype\u001b[0m\u001b[0;34m(\u001b[0m\u001b[0mleft\u001b[0m\u001b[0;34m)\u001b[0m \u001b[0;32mor\u001b[0m \u001b[0mis_datetime64tz_dtype\u001b[0m\u001b[0;34m(\u001b[0m\u001b[0mleft\u001b[0m\u001b[0;34m)\u001b[0m\u001b[0;34m:\u001b[0m\u001b[0;34m\u001b[0m\u001b[0;34m\u001b[0m\u001b[0m\n\u001b[0;32m-> 1049\u001b[0;31m             \u001b[0mresult\u001b[0m \u001b[0;34m=\u001b[0m \u001b[0mdispatch_to_index_op\u001b[0m\u001b[0;34m(\u001b[0m\u001b[0mop\u001b[0m\u001b[0;34m,\u001b[0m \u001b[0mleft\u001b[0m\u001b[0;34m,\u001b[0m \u001b[0mright\u001b[0m\u001b[0;34m,\u001b[0m \u001b[0mpd\u001b[0m\u001b[0;34m.\u001b[0m\u001b[0mDatetimeIndex\u001b[0m\u001b[0;34m)\u001b[0m\u001b[0;34m\u001b[0m\u001b[0;34m\u001b[0m\u001b[0m\n\u001b[0m\u001b[1;32m   1050\u001b[0m             return construct_result(left, result,\n\u001b[1;32m   1051\u001b[0m                                     \u001b[0mindex\u001b[0m\u001b[0;34m=\u001b[0m\u001b[0mleft\u001b[0m\u001b[0;34m.\u001b[0m\u001b[0mindex\u001b[0m\u001b[0;34m,\u001b[0m \u001b[0mname\u001b[0m\u001b[0;34m=\u001b[0m\u001b[0mres_name\u001b[0m\u001b[0;34m,\u001b[0m\u001b[0;34m\u001b[0m\u001b[0;34m\u001b[0m\u001b[0m\n",
      "\u001b[0;32m~/anaconda3/lib/python3.7/site-packages/pandas/core/ops.py\u001b[0m in \u001b[0;36mdispatch_to_index_op\u001b[0;34m(op, left, right, index_class)\u001b[0m\n\u001b[1;32m   1099\u001b[0m         \u001b[0mleft_idx\u001b[0m \u001b[0;34m=\u001b[0m \u001b[0mleft_idx\u001b[0m\u001b[0;34m.\u001b[0m\u001b[0m_shallow_copy\u001b[0m\u001b[0;34m(\u001b[0m\u001b[0mfreq\u001b[0m\u001b[0;34m=\u001b[0m\u001b[0;32mNone\u001b[0m\u001b[0;34m)\u001b[0m\u001b[0;34m\u001b[0m\u001b[0;34m\u001b[0m\u001b[0m\n\u001b[1;32m   1100\u001b[0m     \u001b[0;32mtry\u001b[0m\u001b[0;34m:\u001b[0m\u001b[0;34m\u001b[0m\u001b[0;34m\u001b[0m\u001b[0m\n\u001b[0;32m-> 1101\u001b[0;31m         \u001b[0mresult\u001b[0m \u001b[0;34m=\u001b[0m \u001b[0mop\u001b[0m\u001b[0;34m(\u001b[0m\u001b[0mleft_idx\u001b[0m\u001b[0;34m,\u001b[0m \u001b[0mright\u001b[0m\u001b[0;34m)\u001b[0m\u001b[0;34m\u001b[0m\u001b[0;34m\u001b[0m\u001b[0m\n\u001b[0m\u001b[1;32m   1102\u001b[0m     \u001b[0;32mexcept\u001b[0m \u001b[0mNullFrequencyError\u001b[0m\u001b[0;34m:\u001b[0m\u001b[0;34m\u001b[0m\u001b[0;34m\u001b[0m\u001b[0m\n\u001b[1;32m   1103\u001b[0m         \u001b[0;31m# DatetimeIndex and TimedeltaIndex with freq == None raise ValueError\u001b[0m\u001b[0;34m\u001b[0m\u001b[0;34m\u001b[0m\u001b[0;34m\u001b[0m\u001b[0m\n",
      "\u001b[0;32m~/anaconda3/lib/python3.7/site-packages/pandas/core/ops.py\u001b[0m in \u001b[0;36mwrapper\u001b[0;34m(left, right)\u001b[0m\n\u001b[1;32m   1047\u001b[0m \u001b[0;34m\u001b[0m\u001b[0m\n\u001b[1;32m   1048\u001b[0m         \u001b[0;32mif\u001b[0m \u001b[0mis_datetime64_dtype\u001b[0m\u001b[0;34m(\u001b[0m\u001b[0mleft\u001b[0m\u001b[0;34m)\u001b[0m \u001b[0;32mor\u001b[0m \u001b[0mis_datetime64tz_dtype\u001b[0m\u001b[0;34m(\u001b[0m\u001b[0mleft\u001b[0m\u001b[0;34m)\u001b[0m\u001b[0;34m:\u001b[0m\u001b[0;34m\u001b[0m\u001b[0;34m\u001b[0m\u001b[0m\n\u001b[0;32m-> 1049\u001b[0;31m             \u001b[0mresult\u001b[0m \u001b[0;34m=\u001b[0m \u001b[0mdispatch_to_index_op\u001b[0m\u001b[0;34m(\u001b[0m\u001b[0mop\u001b[0m\u001b[0;34m,\u001b[0m \u001b[0mleft\u001b[0m\u001b[0;34m,\u001b[0m \u001b[0mright\u001b[0m\u001b[0;34m,\u001b[0m \u001b[0mpd\u001b[0m\u001b[0;34m.\u001b[0m\u001b[0mDatetimeIndex\u001b[0m\u001b[0;34m)\u001b[0m\u001b[0;34m\u001b[0m\u001b[0;34m\u001b[0m\u001b[0m\n\u001b[0m\u001b[1;32m   1050\u001b[0m             return construct_result(left, result,\n\u001b[1;32m   1051\u001b[0m                                     \u001b[0mindex\u001b[0m\u001b[0;34m=\u001b[0m\u001b[0mleft\u001b[0m\u001b[0;34m.\u001b[0m\u001b[0mindex\u001b[0m\u001b[0;34m,\u001b[0m \u001b[0mname\u001b[0m\u001b[0;34m=\u001b[0m\u001b[0mres_name\u001b[0m\u001b[0;34m,\u001b[0m\u001b[0;34m\u001b[0m\u001b[0;34m\u001b[0m\u001b[0m\n",
      "\u001b[0;32m~/anaconda3/lib/python3.7/site-packages/pandas/core/ops.py\u001b[0m in \u001b[0;36mdispatch_to_index_op\u001b[0;34m(op, left, right, index_class)\u001b[0m\n\u001b[1;32m   1099\u001b[0m         \u001b[0mleft_idx\u001b[0m \u001b[0;34m=\u001b[0m \u001b[0mleft_idx\u001b[0m\u001b[0;34m.\u001b[0m\u001b[0m_shallow_copy\u001b[0m\u001b[0;34m(\u001b[0m\u001b[0mfreq\u001b[0m\u001b[0;34m=\u001b[0m\u001b[0;32mNone\u001b[0m\u001b[0;34m)\u001b[0m\u001b[0;34m\u001b[0m\u001b[0;34m\u001b[0m\u001b[0m\n\u001b[1;32m   1100\u001b[0m     \u001b[0;32mtry\u001b[0m\u001b[0;34m:\u001b[0m\u001b[0;34m\u001b[0m\u001b[0;34m\u001b[0m\u001b[0m\n\u001b[0;32m-> 1101\u001b[0;31m         \u001b[0mresult\u001b[0m \u001b[0;34m=\u001b[0m \u001b[0mop\u001b[0m\u001b[0;34m(\u001b[0m\u001b[0mleft_idx\u001b[0m\u001b[0;34m,\u001b[0m \u001b[0mright\u001b[0m\u001b[0;34m)\u001b[0m\u001b[0;34m\u001b[0m\u001b[0;34m\u001b[0m\u001b[0m\n\u001b[0m\u001b[1;32m   1102\u001b[0m     \u001b[0;32mexcept\u001b[0m \u001b[0mNullFrequencyError\u001b[0m\u001b[0;34m:\u001b[0m\u001b[0;34m\u001b[0m\u001b[0;34m\u001b[0m\u001b[0m\n\u001b[1;32m   1103\u001b[0m         \u001b[0;31m# DatetimeIndex and TimedeltaIndex with freq == None raise ValueError\u001b[0m\u001b[0;34m\u001b[0m\u001b[0;34m\u001b[0m\u001b[0;34m\u001b[0m\u001b[0m\n",
      "\u001b[0;32m~/anaconda3/lib/python3.7/site-packages/pandas/core/ops.py\u001b[0m in \u001b[0;36mrsub\u001b[0;34m(left, right)\u001b[0m\n\u001b[1;32m    115\u001b[0m \u001b[0;34m\u001b[0m\u001b[0m\n\u001b[1;32m    116\u001b[0m \u001b[0;32mdef\u001b[0m \u001b[0mrsub\u001b[0m\u001b[0;34m(\u001b[0m\u001b[0mleft\u001b[0m\u001b[0;34m,\u001b[0m \u001b[0mright\u001b[0m\u001b[0;34m)\u001b[0m\u001b[0;34m:\u001b[0m\u001b[0;34m\u001b[0m\u001b[0;34m\u001b[0m\u001b[0m\n\u001b[0;32m--> 117\u001b[0;31m     \u001b[0;32mreturn\u001b[0m \u001b[0mright\u001b[0m \u001b[0;34m-\u001b[0m \u001b[0mleft\u001b[0m\u001b[0;34m\u001b[0m\u001b[0;34m\u001b[0m\u001b[0m\n\u001b[0m\u001b[1;32m    118\u001b[0m \u001b[0;34m\u001b[0m\u001b[0m\n\u001b[1;32m    119\u001b[0m \u001b[0;34m\u001b[0m\u001b[0m\n",
      "\u001b[0;32m~/anaconda3/lib/python3.7/site-packages/pandas/core/indexes/datetimelike.py\u001b[0m in \u001b[0;36m__sub__\u001b[0;34m(self, other)\u001b[0m\n\u001b[1;32m    915\u001b[0m             \u001b[0;32melif\u001b[0m \u001b[0mis_datetime64_dtype\u001b[0m\u001b[0;34m(\u001b[0m\u001b[0mother\u001b[0m\u001b[0;34m)\u001b[0m \u001b[0;32mor\u001b[0m \u001b[0mis_datetime64tz_dtype\u001b[0m\u001b[0;34m(\u001b[0m\u001b[0mother\u001b[0m\u001b[0;34m)\u001b[0m\u001b[0;34m:\u001b[0m\u001b[0;34m\u001b[0m\u001b[0;34m\u001b[0m\u001b[0m\n\u001b[1;32m    916\u001b[0m                 \u001b[0;31m# DatetimeIndex, ndarray[datetime64]\u001b[0m\u001b[0;34m\u001b[0m\u001b[0;34m\u001b[0m\u001b[0;34m\u001b[0m\u001b[0m\n\u001b[0;32m--> 917\u001b[0;31m                 \u001b[0mresult\u001b[0m \u001b[0;34m=\u001b[0m \u001b[0mself\u001b[0m\u001b[0;34m.\u001b[0m\u001b[0m_sub_datelike\u001b[0m\u001b[0;34m(\u001b[0m\u001b[0mother\u001b[0m\u001b[0;34m)\u001b[0m\u001b[0;34m\u001b[0m\u001b[0;34m\u001b[0m\u001b[0m\n\u001b[0m\u001b[1;32m    918\u001b[0m             \u001b[0;32melif\u001b[0m \u001b[0misinstance\u001b[0m\u001b[0;34m(\u001b[0m\u001b[0mother\u001b[0m\u001b[0;34m,\u001b[0m \u001b[0mIndex\u001b[0m\u001b[0;34m)\u001b[0m\u001b[0;34m:\u001b[0m\u001b[0;34m\u001b[0m\u001b[0;34m\u001b[0m\u001b[0m\n\u001b[1;32m    919\u001b[0m                 raise TypeError(\"cannot subtract {cls} and {typ}\"\n",
      "\u001b[0;32m~/anaconda3/lib/python3.7/site-packages/pandas/core/indexes/datetimes.py\u001b[0m in \u001b[0;36m_sub_datelike\u001b[0;34m(self, other)\u001b[0m\n\u001b[1;32m    867\u001b[0m                 raise TypeError(\"{cls} subtraction must have the same \"\n\u001b[1;32m    868\u001b[0m                                 \u001b[0;34m\"timezones or no timezones\"\u001b[0m\u001b[0;34m\u001b[0m\u001b[0;34m\u001b[0m\u001b[0m\n\u001b[0;32m--> 869\u001b[0;31m                                 .format(cls=type(self).__name__))\n\u001b[0m\u001b[1;32m    870\u001b[0m             \u001b[0mresult\u001b[0m \u001b[0;34m=\u001b[0m \u001b[0mself\u001b[0m\u001b[0;34m.\u001b[0m\u001b[0m_sub_datelike_dti\u001b[0m\u001b[0;34m(\u001b[0m\u001b[0mother\u001b[0m\u001b[0;34m)\u001b[0m\u001b[0;34m\u001b[0m\u001b[0;34m\u001b[0m\u001b[0m\n\u001b[1;32m    871\u001b[0m         \u001b[0;32melif\u001b[0m \u001b[0misinstance\u001b[0m\u001b[0;34m(\u001b[0m\u001b[0mother\u001b[0m\u001b[0;34m,\u001b[0m \u001b[0;34m(\u001b[0m\u001b[0mdatetime\u001b[0m\u001b[0;34m,\u001b[0m \u001b[0mnp\u001b[0m\u001b[0;34m.\u001b[0m\u001b[0mdatetime64\u001b[0m\u001b[0;34m)\u001b[0m\u001b[0;34m)\u001b[0m\u001b[0;34m:\u001b[0m\u001b[0;34m\u001b[0m\u001b[0;34m\u001b[0m\u001b[0m\n",
      "\u001b[0;31mTypeError\u001b[0m: DatetimeIndex subtraction must have the same timezones or no timezones"
     ]
    }
   ],
   "source": [
    "test['date_from_first_source'] - test['date_from_source']"
   ]
  },
  {
   "cell_type": "code",
   "execution_count": 13,
   "metadata": {},
   "outputs": [
    {
     "data": {
      "text/plain": [
       "datetime.datetime(2019, 8, 1, 3, 4, 5)"
      ]
     },
     "execution_count": 13,
     "metadata": {},
     "output_type": "execute_result"
    }
   ],
   "source": [
    "datetime.datetime(2019,8,1,3,4,5)"
   ]
  },
  {
   "cell_type": "code",
   "execution_count": 14,
   "metadata": {},
   "outputs": [],
   "source": [
    "unaware = datetime.datetime(2011, 8, 15, 8, 15, 12, 0)\n",
    "aware = datetime.datetime(2011, 8, 15, 8, 15, 12, 0, pytz.UTC)"
   ]
  },
  {
   "cell_type": "code",
   "execution_count": 20,
   "metadata": {},
   "outputs": [
    {
     "data": {
      "text/plain": [
       "'2011-08-15T08:15:12'"
      ]
     },
     "execution_count": 20,
     "metadata": {},
     "output_type": "execute_result"
    }
   ],
   "source": [
    "unaware.isoformat()"
   ]
  },
  {
   "cell_type": "code",
   "execution_count": 19,
   "metadata": {},
   "outputs": [
    {
     "data": {
      "text/plain": [
       "'2011-08-15T08:15:12+00:00'"
      ]
     },
     "execution_count": 19,
     "metadata": {},
     "output_type": "execute_result"
    }
   ],
   "source": [
    "aware.isoformat()"
   ]
  },
  {
   "cell_type": "code",
   "execution_count": 21,
   "metadata": {},
   "outputs": [],
   "source": [
    "pytz?"
   ]
  },
  {
   "cell_type": "code",
   "execution_count": 30,
   "metadata": {},
   "outputs": [],
   "source": [
    "amsterdam_time_zone = pytz.timezone('Europe/Amsterdam')\n",
    "berlin_time_zone = pytz.timezone('Europe/Berlin')\n",
    "us_eastern_time_zone = pytz.timezone('US/Eastern')"
   ]
  },
  {
   "cell_type": "code",
   "execution_count": 35,
   "metadata": {},
   "outputs": [
    {
     "name": "stdout",
     "output_type": "stream",
     "text": [
      "2019-09-15 12:21:14.701172+02:00\n",
      "2019-09-15 12:21:14.701371+02:00\n",
      "2019-09-15 06:21:14.701444-04:00\n"
     ]
    }
   ],
   "source": [
    "print(datetime.datetime.now(amsterdam_time_zone))\n",
    "print(datetime.datetime.now(berlin_time_zone))\n",
    "print(datetime.datetime.now(us_eastern_time_zone))"
   ]
  },
  {
   "cell_type": "code",
   "execution_count": 44,
   "metadata": {},
   "outputs": [
    {
     "data": {
      "text/plain": [
       "datetime.timedelta(days=-1, seconds=86399, microseconds=999977)"
      ]
     },
     "execution_count": 44,
     "metadata": {},
     "output_type": "execute_result"
    }
   ],
   "source": [
    "datetime.datetime.now(amsterdam_time_zone) - datetime.datetime.now(us_eastern_time_zone)"
   ]
  },
  {
   "cell_type": "markdown",
   "metadata": {},
   "source": [
    "# Part 2"
   ]
  },
  {
   "cell_type": "code",
   "execution_count": null,
   "metadata": {},
   "outputs": [],
   "source": [
    "order_data = pd.read_csv('https://raw.githubusercontent.com/FBosler/you-datascientist/master/order_leads.csv')\n",
    "sales_team = pd.read_csv('https://raw.githubusercontent.com/FBosler/you-datascientist/master/sales_team.csv')"
   ]
  }
 ],
 "metadata": {
  "kernelspec": {
   "display_name": "Python 3",
   "language": "python",
   "name": "python3"
  },
  "language_info": {
   "codemirror_mode": {
    "name": "ipython",
    "version": 3
   },
   "file_extension": ".py",
   "mimetype": "text/x-python",
   "name": "python",
   "nbconvert_exporter": "python",
   "pygments_lexer": "ipython3",
   "version": "3.7.1"
  }
 },
 "nbformat": 4,
 "nbformat_minor": 2
}
