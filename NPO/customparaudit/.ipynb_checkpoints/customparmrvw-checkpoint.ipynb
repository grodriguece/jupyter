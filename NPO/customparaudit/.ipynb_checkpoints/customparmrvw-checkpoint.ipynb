{
 "cells": [
  {
   "cell_type": "code",
   "execution_count": 50,
   "metadata": {
    "lines_to_next_cell": 2
   },
   "outputs": [],
   "source": [
    "# import numpy as np\n",
    "from plotnine import *\n",
    "import pandas as pd\n",
    "import openpyxl\n",
    "import csv\n",
    "# from xlsx2csv import Xlsx2csv\n",
    "from rfpack.pntopdc import pntopd\n",
    "from rfpack.get_sheet_detailsc import get_sheet_details\n",
    "from rfpack.switcherc import *\n",
    "from xlsx2csv import *\n",
    "from pathlib import Path\n",
    "import sys, os, json, re, time\n",
    "import subprocess\n",
    "from pathlib import Path\n",
    "import os\n",
    "import xmltodict\n",
    "import shutil\n",
    "import zipfile\n",
    "from datetime import date"
   ]
  },
  {
   "cell_type": "code",
   "execution_count": 51,
   "metadata": {},
   "outputs": [],
   "source": [
    "# def get_sheet_details(filename):\n",
    "#     sheets = []\n",
    "#     # Make a temporary directory with the file name\n",
    "#     # directory_to_extract_to = Path(ruta + filename)\n",
    "#     directory_to_extract_to = (filename.with_suffix(''))\n",
    "#     os.mkdir(directory_to_extract_to)\n",
    "#     # Extract the xlsx file as it is just a zip file\n",
    "#     # zip_ref = zipfile.ZipFile(Path(ruta + filename + '.xlsx'), 'r')\n",
    "#     zip_ref = zipfile.ZipFile(filename, 'r')\n",
    "#     zip_ref.extractall(directory_to_extract_to)\n",
    "#     zip_ref.close()\n",
    "#     # Open the workbook.xml which is very light and only has meta data, get sheets from it\n",
    "#     path_to_workbook = directory_to_extract_to / 'xl' / 'workbook.xml'\n",
    "#     with open(path_to_workbook, 'r') as f:\n",
    "#         xml = f.read()\n",
    "#         dictionary = xmltodict.parse(xml)\n",
    "#         for sheet in dictionary['workbook']['sheets']['sheet']:\n",
    "#             sheet_details = {\n",
    "#                 'id': sheet['@sheetId'],  # can be sheetId for some versions\n",
    "#                 'name': sheet['@name']  # can be name\n",
    "#             }\n",
    "#             sheets.append(sheet_details)\n",
    "#     # Delete the extracted files directory\n",
    "#     shutil.rmtree(directory_to_extract_to)\n",
    "#     return sheets  # with sheetid, it can be saved with xlsx2csv"
   ]
  },
  {
   "cell_type": "code",
   "execution_count": 52,
   "metadata": {},
   "outputs": [],
   "source": [
    "def get_key(val):\n",
    "    for key, value in my_dict.items(): \n",
    "         if val == value: \n",
    "             return key \n",
    "    return \"key doesn't exist\""
   ]
  },
  {
   "cell_type": "code",
   "execution_count": 53,
   "metadata": {},
   "outputs": [],
   "source": [
    "def get_sheetid_bynamei(item, dict):\n",
    "    import pandas as pd\n",
    "    df2 = pd.DataFrame.from_dict(dict)\n",
    "    df1 = df2[(df2['name'] == item)].reset_index()\n",
    "    return df1"
   ]
  },
  {
   "cell_type": "code",
   "execution_count": 54,
   "metadata": {
    "lines_to_next_cell": 1
   },
   "outputs": [],
   "source": [
    "def get_sheetid_bynamef(tablas, tipo, dict):\n",
    "    import pandas as pd\n",
    "    df2 = pd.DataFrame.from_dict(dict)\n",
    "    df1 = pd.read_csv(tablas)\n",
    "    df1 = df1.loc[:, df1.columns == tipo].dropna()  # only column tipo is selected without NaN\n",
    "    df1.rename(columns={tipo: \"name\"}, inplace=True)\n",
    "    df1 = pd.merge(df1, df2, on='name')\n",
    "    return df1"
   ]
  },
  {
   "cell_type": "code",
   "execution_count": 55,
   "metadata": {},
   "outputs": [],
   "source": [
    "def csvfrmxlsx(xlsxfl, df):  # create csv files in csv folder on parent directory\n",
    "    from pathlib import Path\n",
    "    from xlsx2csv import Xlsx2csv\n",
    "    for index, row in df.iterrows():  # table row iteration by audit2 column type\n",
    "        shnum = row['id']\n",
    "        shnph = xlsxfl.parent / 'csv' / Path(row['name'] + '.csv')  # path for converted csv file\n",
    "        Xlsx2csv(str(xlsxfl), outputencoding=\"utf-8\").convert(str(shnph), sheetid=int(shnum))  # id from openxlsx\n",
    "    return"
   ]
  },
  {
   "cell_type": "code",
   "execution_count": 56,
   "metadata": {
    "lines_to_next_cell": 2
   },
   "outputs": [],
   "source": [
    "def graffull(xls_file, df, n):\n",
    "    from rfpack.switcherc import znfrmt\n",
    "    import pandas as pd\n",
    "    pnglist1 = []\n",
    "    file = xls_file.parent / 'csv' / Path(df.loc[0][0] + '.csv')  # file Total\n",
    "    df1 = pd.read_csv(file)\n",
    "    for j in range(0, n):   # n plots, 3 regions per plot\n",
    "        smrzd = df1.loc[df1['prorder'] == j]  # filter info for zones set to be printed\n",
    "        custom_axis = theme(axis_text_x=element_text(color=\"grey\", size=10, angle=90, hjust=.3),\n",
    "                            axis_text_y=element_text(color=\"grey\", size=10),\n",
    "                            plot_title=element_text(size=25, face=\"bold\"),\n",
    "                            axis_title=element_text(size=10),\n",
    "                            panel_spacing_x=1.6, panel_spacing_y=.45,  # review\n",
    "                            figure_size=(3 * 4, 5 * 4)\n",
    "                            )\n",
    "        smrzd_plot = (ggplot(data=smrzd, mapping=aes(x='parameter'))\n",
    "                      + geom_col(mapping=aes(y='CV'), size=0.1, color=\"darkblue\", fill=\"white\")\n",
    "                      + geom_line(mapping=aes(y='NoModePer'), size=1.5, color=\"red\", group=1)\n",
    "                      + facet_wrap('Prefijo', ncol=1) + custom_axis + ylab(\"CV(bar) - NoMode(line)\") + xlab(\n",
    "                    \"Parameters\")\n",
    "                      + labs(title=\"Coefficient of variation - Out of Mode % \" + ', '.join(znfrmt(j)))\n",
    "\n",
    "                      )\n",
    "        pngname = 'sumrzd' + str(j + 1) + '.png'\n",
    "        pngfile = xls_file.parent / pngname\n",
    "        smrzd_plot.save(pngfile, width=20, height=10, dpi=300)\n",
    "        pnglist1.append(pngfile)\n",
    "    return pnglist1"
   ]
  },
  {
   "cell_type": "code",
   "execution_count": 57,
   "metadata": {
    "lines_to_end_of_cell_marker": 2,
    "lines_to_next_cell": 2
   },
   "outputs": [
    {
     "name": "stdout",
     "output_type": "stream",
     "text": [
      "200825_Feat1ParAudit\n",
      "200825_Feat1ParAudit.xlsx\n",
      "C:\\SQLite\n",
      "['.xlsx']\n"
     ]
    },
    {
     "name": "stderr",
     "output_type": "stream",
     "text": [
      "C:\\ProgramData\\Anaconda3\\lib\\site-packages\\plotnine\\ggplot.py:727: PlotnineWarning: Saving 20 x 10 in image.\n",
      "C:\\ProgramData\\Anaconda3\\lib\\site-packages\\plotnine\\ggplot.py:730: PlotnineWarning: Filename: C:\\SQLite\\sumrzd1.png\n",
      "C:\\ProgramData\\Anaconda3\\lib\\site-packages\\plotnine\\ggplot.py:727: PlotnineWarning: Saving 20 x 10 in image.\n",
      "C:\\ProgramData\\Anaconda3\\lib\\site-packages\\plotnine\\ggplot.py:730: PlotnineWarning: Filename: C:\\SQLite\\sumrzd2.png\n",
      "C:\\ProgramData\\Anaconda3\\lib\\site-packages\\plotnine\\ggplot.py:727: PlotnineWarning: Saving 20 x 10 in image.\n",
      "C:\\ProgramData\\Anaconda3\\lib\\site-packages\\plotnine\\ggplot.py:730: PlotnineWarning: Filename: C:\\SQLite\\sumrzd3.png\n",
      "C:\\ProgramData\\Anaconda3\\lib\\site-packages\\plotnine\\ggplot.py:727: PlotnineWarning: Saving 20 x 10 in image.\n",
      "C:\\ProgramData\\Anaconda3\\lib\\site-packages\\plotnine\\ggplot.py:730: PlotnineWarning: Filename: C:\\SQLite\\sumrzd4.png\n"
     ]
    }
   ],
   "source": [
    "rffl = 'C:/SQLite/tablasSQL.csv'\n",
    "today = date.today()\n",
    "clmntp = 'xlsxsheets'\n",
    "pthfnc = 'c:/sqlite/'\n",
    "wrkfl = 'C:/SQLite/200825_Feat1ParAudit.xlsx'\n",
    "xls_file = Path(wrkfl)\n",
    "rfflph = Path(rffl)\n",
    "print(xls_file.stem)\n",
    "print(xls_file.name)\n",
    "print(xls_file.parent)\n",
    "print(xls_file.suffixes)\n",
    "tit = today.strftime(\"%y%m%d\") + '_ParameterAudit'\n",
    "pdf_file = tit + \".pdf\"\n",
    "pdf_path = xls_file.parent / pdf_file\n",
    "sheetsdic = get_sheet_details(xls_file)  # get sheet names and ids without opening xlsx file\n",
    "df = get_sheetid_bynamef(rfflph, clmntp, sheetsdic)  # xlsxsheets column from csv table file\n",
    "# df = get_sheetid_bynamei(\"Total\", sheetsdic)  # get sheet id from Total sheet\n",
    "csvfrmxlsx(xls_file, df)  # df with sheets to be converted\n",
    "pnglist1 = graffull(xls_file, df, 4)  # print Total info in 4 pages, 3 regions per page\n",
    "pntopd(pdf_path, pnglist1, 50, 550, 500, 500)"
   ]
  },
  {
   "cell_type": "code",
   "execution_count": null,
   "metadata": {},
   "outputs": [],
   "source": []
  }
 ],
 "metadata": {
  "jupytext": {
   "formats": "ipynb,py:light"
  },
  "kernelspec": {
   "display_name": "Python 3",
   "language": "python",
   "name": "python3"
  },
  "language_info": {
   "codemirror_mode": {
    "name": "ipython",
    "version": 3
   },
   "file_extension": ".py",
   "mimetype": "text/x-python",
   "name": "python",
   "nbconvert_exporter": "python",
   "pygments_lexer": "ipython3",
   "version": "3.8.3"
  }
 },
 "nbformat": 4,
 "nbformat_minor": 4
}
