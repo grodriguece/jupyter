{
 "cells": [
  {
   "cell_type": "code",
   "execution_count": 1,
   "metadata": {},
   "outputs": [
    {
     "name": "stdout",
     "output_type": "stream",
     "text": [
      "1\n",
      "3\n",
      "5\n"
     ]
    }
   ],
   "source": [
    "dataList = [{'a': 1}, {'b': 3}, {'c': 5}]\n",
    "for index in range(len(dataList)):\n",
    "    for key in dataList[index]:\n",
    "        print(dataList[index][key])"
   ]
  },
  {
   "cell_type": "code",
   "execution_count": 4,
   "metadata": {},
   "outputs": [
    {
     "name": "stdout",
     "output_type": "stream",
     "text": [
      "1\n",
      "3\n",
      "5\n"
     ]
    }
   ],
   "source": [
    "dataList = [{'a': 1}, {'b': 3}, {'c': 5}]\n",
    "for dic in dataList:\n",
    "    for key in dic.values():\n",
    "        print(key)"
   ]
  },
  {
   "cell_type": "code",
   "execution_count": 8,
   "metadata": {},
   "outputs": [
    {
     "name": "stdout",
     "output_type": "stream",
     "text": [
      "{'Name': 'Albert', 'Age': 16}\n",
      "Albert\n",
      "{'Name': 'Suzy', 'Age': 17}\n",
      "Suzy\n",
      "{'Name': 'Johnny', 'Age': 13}\n",
      "Johnny\n",
      "{'Name': 'Albert', 'Age': 16}\n"
     ]
    }
   ],
   "source": [
    "thisismylist= [  \n",
    "              {'Name': 'Albert' , 'Age': 16},\n",
    "              {'Name': 'Suzy', 'Age': 17},\n",
    "              {'Name': 'Johnny', 'Age': 13}\n",
    "]\n",
    "for d in thisismylist:\n",
    "    print(d)\n",
    "    print(d['Name'])\n",
    "print(thisismylist[0])    "
   ]
  },
  {
   "cell_type": "code",
   "execution_count": null,
   "metadata": {},
   "outputs": [],
   "source": []
  }
 ],
 "metadata": {
  "kernelspec": {
   "display_name": "Python 3",
   "language": "python",
   "name": "python3"
  },
  "language_info": {
   "codemirror_mode": {
    "name": "ipython",
    "version": 3
   },
   "file_extension": ".py",
   "mimetype": "text/x-python",
   "name": "python",
   "nbconvert_exporter": "python",
   "pygments_lexer": "ipython3",
   "version": "3.8.3"
  }
 },
 "nbformat": 4,
 "nbformat_minor": 4
}
