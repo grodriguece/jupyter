{
 "cells": [
  {
   "cell_type": "code",
   "execution_count": null,
   "metadata": {},
   "outputs": [],
   "source": [
    "c = ...db.cursor()\n",
    "c.execute(\"select * from t where 1=0\");\n",
    "c.fetchall();\n",
    "print c.description;"
   ]
  },
  {
   "cell_type": "code",
   "execution_count": null,
   "metadata": {},
   "outputs": [],
   "source": [
    "def par_aud(ruta, datb):\n",
    "    from datetime import date\n",
    "    import sqlite3\n",
    "\n",
    "    dat_dir = Path(ruta)\n",
    "    db_path1 = dat_dir / datb\n",
    "    conn = sqlite3.connect(db_path1)  # database connection\n",
    "    c = conn.cursor()\n",
    "    c.execute(\"select * from t where 1=0\");\n",
    "    c.fetchall();\n",
    "    print c.description;\n"
   ]
  },
  {
   "cell_type": "code",
   "execution_count": null,
   "metadata": {},
   "outputs": [],
   "source": []
  },
  {
   "cell_type": "code",
   "execution_count": null,
   "metadata": {},
   "outputs": [],
   "source": []
  },
  {
   "cell_type": "code",
   "execution_count": null,
   "metadata": {},
   "outputs": [],
   "source": [
    "par_aud(\"C:/SQLite\", \"20200522_sqlite.db\")"
   ]
  }
 ],
 "metadata": {
  "kernelspec": {
   "display_name": "Python 3",
   "language": "python",
   "name": "python3"
  },
  "language_info": {
   "codemirror_mode": {
    "name": "ipython",
    "version": 3
   },
   "file_extension": ".py",
   "mimetype": "text/x-python",
   "name": "python",
   "nbconvert_exporter": "python",
   "pygments_lexer": "ipython3",
   "version": "3.8.3"
  }
 },
 "nbformat": 4,
 "nbformat_minor": 4
}
