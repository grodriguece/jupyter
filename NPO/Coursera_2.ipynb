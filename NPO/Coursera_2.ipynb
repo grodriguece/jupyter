{
 "cells": [
  {
   "cell_type": "markdown",
   "metadata": {},
   "source": [
    "# \"My Jupyter Notebook on IBM Watson Studio\""
   ]
  },
  {
   "cell_type": "markdown",
   "metadata": {},
   "source": [
    "__German Rodriguez__<br>\n",
    "RF Mobile Networks Planning and Opyimization Engineer."
   ]
  },
  {
   "cell_type": "markdown",
   "metadata": {},
   "source": [
    "_I am interested in data science because I want to work with the tools and methods provided in my field of work. I have been mobile networks planning and optimization Engineer for 25 years. During that time I've had access to a lot of key network performance indicators and parameters.<br>\n",
    "Analyzing this historic information allow me get traffic user patterns, and forecasting can be performed in order to keep capacity under defined thresholds, taking care of quality and customer satisfaction._"
   ]
  },
  {
   "cell_type": "markdown",
   "metadata": {},
   "source": [
    "### Code below take two lists and creates a pandas dataframe, that is printed at the end."
   ]
  },
  {
   "cell_type": "code",
   "execution_count": 2,
   "metadata": {},
   "outputs": [
    {
     "name": "stdout",
     "output_type": "stream",
     "text": [
      "   CA   CB\n",
      "0   1   10\n",
      "1   2   20\n",
      "2   3   30\n",
      "3   4   40\n",
      "4   5   50\n",
      "5   6   60\n",
      "6   7   70\n",
      "7   8   80\n",
      "8   9   90\n",
      "9  10  100\n"
     ]
    }
   ],
   "source": [
    "import pandas as pd\n",
    "A = [1,2,3,4,5,6,7,8,9,10]\n",
    "B = [10,20,30,40,50,60,70,80,90, 100]\n",
    "df = pd.DataFrame({'CA' : A, 'CB' : B})    \n",
    "print(df)"
   ]
  },
  {
   "cell_type": "markdown",
   "metadata": {},
   "source": [
    " [pandas tutorials](https://pandas.pydata.org/pandas-docs/stable/getting_started/tutorials.html)<br>\n",
    " ![pandas logo](https://pandas.pydata.org/static/img/pandas.svg)<br>\n",
    "Pandas Essential basic functionality\n",
    "- Head and tail\n",
    "- Attributes and underlying data\n",
    "- Accelerated operations\n",
    "- Flexible binary operations\n",
    "- Descriptive statistics\n",
    "- Function application\n",
    "- Reindexing and altering labels\n",
    "- Iteration\n",
    "- .dt accessor\n",
    "- Vectorized string methods\n",
    "- Sorting\n",
    "- Copying\n",
    "- dtypes\n",
    "- Selecting columns based on dtype"
   ]
  },
  {
   "cell_type": "code",
   "execution_count": null,
   "metadata": {},
   "outputs": [],
   "source": []
  },
  {
   "cell_type": "code",
   "execution_count": null,
   "metadata": {},
   "outputs": [],
   "source": []
  }
 ],
 "metadata": {
  "kernelspec": {
   "display_name": "Python 3",
   "language": "python",
   "name": "python3"
  },
  "language_info": {
   "codemirror_mode": {
    "name": "ipython",
    "version": 3
   },
   "file_extension": ".py",
   "mimetype": "text/x-python",
   "name": "python",
   "nbconvert_exporter": "python",
   "pygments_lexer": "ipython3",
   "version": "3.8.3"
  }
 },
 "nbformat": 4,
 "nbformat_minor": 4
}
