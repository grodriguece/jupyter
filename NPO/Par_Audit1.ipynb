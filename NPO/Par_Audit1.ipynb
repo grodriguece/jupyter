{
 "cells": [
  {
   "cell_type": "markdown",
   "metadata": {
    "lines_to_next_cell": 2
   },
   "source": [
    "# Parameter - Audit"
   ]
  },
  {
   "cell_type": "markdown",
   "metadata": {},
   "source": [
    " [boxplot](http://www.math.wpi.edu/saspdf/stat/chap18.pdf)\n",
    " [git](http://wresch.github.io/2013/03/08/asinh-scales-in-ggplot2.html)\n",
    " [stack](https://stackoverflow.com/questions/37446064/i-need-ggplot-scale-x-log10-to-give-me-both-negative-and-positive-numbers-as-o)\n",
    " \n",
    "[import](https://www.tutorialspoint.com/python/python_modules.htm)\n",
    "\n",
    "[PATH](https://stackoverflow.com/questions/3701646/how-to-add-to-the-pythonpath-in-windows-so-it-finds-my-modules-packages)\n",
    "\n",
    "[stats](https://ademos.people.uic.edu/Chapter13.html)"
   ]
  },
  {
   "cell_type": "code",
   "execution_count": 36,
   "metadata": {
    "lines_to_next_cell": 2
   },
   "outputs": [],
   "source": [
    "import numpy as np\n",
    "from plotnine import *\n",
    "import pandas as pd\n",
    "from mizani.transforms import trans\n",
    "from pathlib import Path"
   ]
  },
  {
   "cell_type": "code",
   "execution_count": 37,
   "metadata": {
    "lines_to_next_cell": 2
   },
   "outputs": [],
   "source": [
    "%matplotlib inline"
   ]
  },
  {
   "cell_type": "code",
   "execution_count": 38,
   "metadata": {},
   "outputs": [],
   "source": [
    "def cleanIparm(dat_dir, pfile, dcol, df, st):\n",
    "    df1 = pd.read_csv(dat_dir / pfile, header=0)\n",
    "    ldcol = df1.loc[:, dcol]  # list with column dcol\n",
    "    df.drop(ldcol, axis=1, inplace=True)  # delete params list in dataframes\n",
    "    st.drop(ldcol, axis=0, inplace=True)\n",
    "    return df, st"
   ]
  },
  {
   "cell_type": "code",
   "execution_count": 39,
   "metadata": {},
   "outputs": [],
   "source": [
    "def cleanIparm2(df, st):\n",
    "    import pandas as pd\n",
    "    n = len(df.index)\n",
    "    # ldcol = st.loc[]\n",
    "    df.drop(st[st['StdDev'] == 0].index, axis=1, inplace=True)\n",
    "    st.drop(st[st['StdDev'] == 0].index, inplace=True)\n",
    "    df.drop(st[st['NoModeQty'] == 0].index, axis=1, inplace=True)\n",
    "    st.drop(st[st['NoModeQty'] == 0].index, inplace=True)\n",
    "    # parameter removal with high null percentage \n",
    "    df.drop(st[st['NaNQty'] > n * .2].index, axis=1, inplace=True)\n",
    "    st.drop(st[st['NaNQty'] > n * .2].index, inplace=True)\n",
    "    return df, st"
   ]
  },
  {
   "cell_type": "code",
   "execution_count": 40,
   "metadata": {},
   "outputs": [],
   "source": [
    "def iqrcalc(q1, q3, n, std, mean):\n",
    "    import numpy as np\n",
    "    if .1 > mean > -.1:\n",
    "        cv = 100 * std\n",
    "    else:\n",
    "        cv = 100 * std / abs(mean)\n",
    "    return q3 + (1.58 * (q3 - q1) / np.sqrt(n)), q1 - (1.58 * (q3 - q1) / np.sqrt(n)), q3 - q1, cv"
   ]
  },
  {
   "cell_type": "code",
   "execution_count": 41,
   "metadata": {},
   "outputs": [],
   "source": [
    "# case function for carrier selection. switcher is dictionary data type\n",
    "def carrtext(carr):\n",
    "    switcher = {\n",
    "        0: 'Total',\n",
    "        1: 'I:4387',\n",
    "        2: 'II:9712',\n",
    "        3: 'III:9685',\n",
    "        4: 'IV:4364',\n",
    "    }\n",
    "    return switcher.get(carr, 'nothing') # 'nothing' if not found"
   ]
  },
  {
   "cell_type": "code",
   "execution_count": 42,
   "metadata": {
    "lines_to_next_cell": 2
   },
   "outputs": [],
   "source": [
    "# case function for carrier selection. switcher is dictionary data type\n",
    "def carriers(carr):\n",
    "    switcher = {\n",
    "        0: 0,\n",
    "        1: 4387,\n",
    "        2: 9712,\n",
    "        3: 9685,\n",
    "        4: 4364,\n",
    "    }\n",
    "    return switcher.get(carr, 'nothing')"
   ]
  },
  {
   "cell_type": "code",
   "execution_count": 43,
   "metadata": {
    "lines_to_next_cell": 2
   },
   "outputs": [],
   "source": [
    "def par_audit(df):\n",
    "    import functools\n",
    "    n = len(df.index)  # row count\n",
    "    # mode stored in columns\n",
    "    modes = df.mode(dropna=False)\n",
    "    # dummy rows delete\n",
    "    modes = modes.dropna(subset=['Sector'])\n",
    "    # dictionaries. data (count values diff from mode in modes) data1 (count of values = mode in modes)\n",
    "    data = {col: (~df[col].isin(modes[col])).sum() for col in df.iloc[:, 0:].columns}\n",
    "    data1 = {col: df[col].isin(modes[col]).sum() for col in df.iloc[:, 0:].columns}\n",
    "    # st3 mode info\n",
    "    st3 = pd.DataFrame.from_dict(data, orient='index', columns=['NoModeQty'])\n",
    "    st3['ModeQty'] = pd.DataFrame.from_dict(data1, orient='index')\n",
    "    st3['NoModePer'] = 100 * (st3['NoModeQty'] / (st3['ModeQty'] + st3['NoModeQty']))\n",
    "    st3.index.name = 'parameter'\n",
    "    st2 = modes.T\n",
    "    st2.columns = ['Mode']\n",
    "    st2.index.name = 'parameter'\n",
    "    st1 = pd.DataFrame({'Vmin': df.min(), 'StdDev': df.std(), 'NaNQty': df.isnull().sum(axis=0), 'Mean': df.mean(),\n",
    "                        'Q1': df.quantile(.25), 'Q3': df.quantile(.75), 'Median': df.quantile(.5)})\n",
    "    st1[['Max', 'Min', 'IQR', 'CV']] = st1.apply(lambda row: iqrcalc(row['Q1'], row['Q3'], n, row['StdDev'],\n",
    "                                                                     row['Mean']), axis=1, result_type='expand')\n",
    "    st1.index.name = 'parameter'\n",
    "    # df merge\n",
    "    dfs = [st1, st2, st3]\n",
    "    st4 = functools.reduce(lambda left, right: pd.merge(left, right, on='parameter'), dfs)\n",
    "    st4.sort_values(by=['IQR', 'CV'], inplace=True, ascending=[False, False])\n",
    "    return st4"
   ]
  },
  {
   "cell_type": "code",
   "execution_count": 44,
   "metadata": {
    "lines_to_next_cell": 2
   },
   "outputs": [],
   "source": [
    "class asinh_trans(trans):\n",
    "    \"\"\"\n",
    "        asinh Transformation\n",
    "        \"\"\"\n",
    "\n",
    "    @staticmethod\n",
    "    def transform(y):\n",
    "        y = np.asarray(y)\n",
    "        return np.arcsinh(y)\n",
    "\n",
    "    @staticmethod\n",
    "    def inverse(y):\n",
    "        y = np.asarray(y)\n",
    "        return np.sinh(y)"
   ]
  },
  {
   "cell_type": "code",
   "execution_count": 45,
   "metadata": {},
   "outputs": [],
   "source": [
    "def pntopd(file, figs, x, y, wi, he):\n",
    "    from reportlab.pdfgen import canvas\n",
    "    from reportlab.lib.pagesizes import A4, letter, landscape, portrait\n",
    "    w, h = letter\n",
    "    c = canvas.Canvas(str(file), pagesize=portrait(letter))\n",
    "    for png in figs:\n",
    "        c.drawImage(png, x, h - y, width=wi, height=he)\n",
    "        c.showPage()\n",
    "    c.save()"
   ]
  },
  {
   "cell_type": "code",
   "execution_count": 46,
   "metadata": {},
   "outputs": [],
   "source": [
    "def par_aud(ruta, datb, tablas, tipo):\n",
    "    import numpy as np\n",
    "    from pyexcelerate import Workbook\n",
    "    from pyexcelerate_to_excel import pyexcelerate_to_excel\n",
    "    from datetime import date\n",
    "    import sqlite3\n",
    "\n",
    "    dat_dir = Path(ruta)\n",
    "    db_path1 = dat_dir / datb\n",
    "    conn = sqlite3.connect(db_path1)  # database connection\n",
    "    c = conn.cursor()\n",
    "    df1 = pd.read_csv(dat_dir / tablas)\n",
    "    today = date.today()\n",
    "    xls_file = tipo + today.strftime(\"%y%m%d\") + \".xlsx\"\n",
    "    xls_path = dat_dir / xls_file  # xls file path-name\n",
    "    wb = Workbook()  # pyexcelerate Workbook\n",
    "    for index, row in df1.iterrows():  # table row iteration by audit2 column type\n",
    "        line = row[tipo]\n",
    "        if not pd.isna(row[tipo]):  # nan null values validation\n",
    "            if line == 'WCEL':\n",
    "                pnglist = []\n",
    "                tit = today.strftime(\"%y%m%d\") + '_ParameterAudit'\n",
    "                xls_file = tit + \".xlsx\"\n",
    "                xls_path = dat_dir / xls_file\n",
    "                pdf_file = tit + \".pdf\"\n",
    "                pdf_path = dat_dir / pdf_file\n",
    "                n = 5  # carrier count - amount of graphs\n",
    "                for i in range(0, n):  # loop for each carrier\n",
    "                    carr = carriers(i)\n",
    "                    cart = carrtext(i)\n",
    "                    try:\n",
    "                        if carr == 0:\n",
    "                            df = pd.read_sql_query(\"select * from WCEL_FULL1;\", conn, index_col=['WCELName', 'Prefijo'])\n",
    "                        else:\n",
    "                            df = pd.read_sql_query(\"select * from WCEL_FULL1 where (UARFCN = \" + str(carr) + \");\",\n",
    "                                                   conn, index_col=['WCELName', 'Prefijo'])\n",
    "                        st = par_audit(df)  # stats per parameter\n",
    "                        df, st = cleanIparm(dat_dir, \"ExParam.csv\", \"expar\", df, st)  # info parameter removal\n",
    "                        pyexcelerate_to_excel(wb, st, sheet_name='Carrier' + str(i), index=True)\n",
    "                        df, st = cleanIparm2(df, st)  # standardized params and NaN>0.2*n removal\n",
    "                        st.sort_values(by=['Median'], inplace=True, ascending=[False])  # for better visualization\n",
    "                        st['counter'] = range(len(st))  # counter controls number of boxplots\n",
    "                        st['counter'] = st['counter'].floordiv(10)  # split parameters in groups by 10\n",
    "                        cols = ['StdDev', 'Mean', 'Median', 'Max', 'Min', 'CV']\n",
    "                        st[cols] = st[cols].round(1)  # scales colums with 1 decimal digit\n",
    "                        # concat info to put text in boxplots\n",
    "                        st['concat'] = st['StdDev'].astype(str) + ', ' + st['NoModeQty'].astype(str)\n",
    "                        ldcol = list(st.index)  # parameters to include in melt command\n",
    "                        # Structuring df1 according to ‘tidy data‘ standard\n",
    "                        df.reset_index(level=(0, 1), inplace=True)  # to use indexes in melt operation\n",
    "                        df1 = df.melt(id_vars=['Prefijo'], value_vars=ldcol,  # WCELName is not used\n",
    "                                      var_name='parameter', value_name='value')\n",
    "                        st.reset_index(inplace=True)  # parameter from index to col\n",
    "                        result = pd.merge(df1, st, on='parameter')  # merge by columns not by index\n",
    "                        result['value_scale'] = np.arcsinh(result['value'])  # axis scaling\n",
    "                        # graph code\n",
    "                        custom_axis = theme(axis_text_x=element_text(color=\"grey\", size=6, angle=90, hjust=.3),\n",
    "                                            axis_text_y=element_text(color=\"grey\", size=6),\n",
    "                                            plot_title=element_text(size=25, face=\"bold\"),\n",
    "                                            axis_title=element_text(size=10),\n",
    "                                            panel_spacing_x=1.6, panel_spacing_y=.45,\n",
    "                                            # 2nd value number of rows and colunms\n",
    "                                            figure_size=(5 * 4, 3.5 * 4)\n",
    "                                            )\n",
    "                        # ggplot code:value 'concat' is placed in coordinate (parameter, stddev)\n",
    "                        my_plot = (ggplot(data=result, mapping=aes(x='parameter', y='value_scale')) + geom_boxplot() +\n",
    "                                   geom_text(data=st, mapping=aes(x='parameter', y='StdDev', label='concat'),\n",
    "                                             color='red', va='top', ha='left', size=7, nudge_x=.6, nudge_y=-1.5) +\n",
    "                                   facet_wrap('counter', scales='free') + custom_axis +\n",
    "                                   scale_y_continuous(trans=asinh_trans) + ylab(\"Values\") + xlab(\"Parameters\") +\n",
    "                                   labs(title=\"Parameter Audit UMTS Carrier \" + cart) + coord_flip())\n",
    "                        pngname = \"C\" + str(carr) + \".png\"\n",
    "                        pngfile = dat_dir / pngname\n",
    "                        my_plot.save(pngfile, width=20, height=10, dpi=300)\n",
    "                        pnglist.append(pngfile)\n",
    "                    except sqlite3.Error as error:  # sqlite error handling.\n",
    "                        print('SQLite error: %s' % (' '.join(error.args)))\n",
    "                        feedbk = tk.Label(top, text='SQLite error: %s' % (' '.join(error.args)))\n",
    "                        feedbk.pack()\n",
    "    wb.save(xls_path)\n",
    "    pntopd(pdf_path, pnglist, 50, 550, 500, 500)\n",
    "    c.close()\n",
    "    conn.close()"
   ]
  },
  {
   "cell_type": "code",
   "execution_count": 47,
   "metadata": {
    "lines_to_end_of_cell_marker": 2,
    "lines_to_next_cell": 0
   },
   "outputs": [
    {
     "name": "stderr",
     "output_type": "stream",
     "text": [
      "C:\\ProgramData\\Anaconda3\\lib\\site-packages\\plotnine\\ggplot.py:727: PlotnineWarning: Saving 20 x 10 in image.\n",
      "C:\\ProgramData\\Anaconda3\\lib\\site-packages\\plotnine\\ggplot.py:730: PlotnineWarning: Filename: C:\\SQLite\\C0.png\n",
      "C:\\ProgramData\\Anaconda3\\lib\\site-packages\\plotnine\\utils.py:1246: FutureWarning: is_categorical is deprecated and will be removed in a future version.  Use is_categorical_dtype instead\n",
      "C:\\ProgramData\\Anaconda3\\lib\\site-packages\\plotnine\\stats\\stat_boxplot.py:86: FutureWarning: is_categorical is deprecated and will be removed in a future version.  Use is_categorical_dtype instead\n",
      "C:\\ProgramData\\Anaconda3\\lib\\site-packages\\plotnine\\facets\\facet.py:549: PlotnineWarning: If you need more space for the x-axis tick text use ... + theme(subplots_adjust={'wspace': 0.25}). Choose an appropriate value for 'wspace'.\n",
      "C:\\ProgramData\\Anaconda3\\lib\\site-packages\\plotnine\\facets\\facet.py:555: PlotnineWarning: If you need more space for the y-axis tick text use ... + theme(subplots_adjust={'hspace': 0.25}). Choose an appropriate value for 'hspace'\n",
      "C:\\ProgramData\\Anaconda3\\lib\\site-packages\\plotnine\\ggplot.py:727: PlotnineWarning: Saving 20 x 10 in image.\n",
      "C:\\ProgramData\\Anaconda3\\lib\\site-packages\\plotnine\\ggplot.py:730: PlotnineWarning: Filename: C:\\SQLite\\C4387.png\n",
      "C:\\ProgramData\\Anaconda3\\lib\\site-packages\\plotnine\\utils.py:1246: FutureWarning: is_categorical is deprecated and will be removed in a future version.  Use is_categorical_dtype instead\n",
      "C:\\ProgramData\\Anaconda3\\lib\\site-packages\\plotnine\\stats\\stat_boxplot.py:86: FutureWarning: is_categorical is deprecated and will be removed in a future version.  Use is_categorical_dtype instead\n",
      "C:\\ProgramData\\Anaconda3\\lib\\site-packages\\plotnine\\facets\\facet.py:549: PlotnineWarning: If you need more space for the x-axis tick text use ... + theme(subplots_adjust={'wspace': 0.25}). Choose an appropriate value for 'wspace'.\n",
      "C:\\ProgramData\\Anaconda3\\lib\\site-packages\\plotnine\\facets\\facet.py:555: PlotnineWarning: If you need more space for the y-axis tick text use ... + theme(subplots_adjust={'hspace': 0.25}). Choose an appropriate value for 'hspace'\n",
      "C:\\ProgramData\\Anaconda3\\lib\\site-packages\\plotnine\\ggplot.py:727: PlotnineWarning: Saving 20 x 10 in image.\n",
      "C:\\ProgramData\\Anaconda3\\lib\\site-packages\\plotnine\\ggplot.py:730: PlotnineWarning: Filename: C:\\SQLite\\C9712.png\n",
      "C:\\ProgramData\\Anaconda3\\lib\\site-packages\\plotnine\\utils.py:1246: FutureWarning: is_categorical is deprecated and will be removed in a future version.  Use is_categorical_dtype instead\n",
      "C:\\ProgramData\\Anaconda3\\lib\\site-packages\\plotnine\\stats\\stat_boxplot.py:86: FutureWarning: is_categorical is deprecated and will be removed in a future version.  Use is_categorical_dtype instead\n",
      "C:\\ProgramData\\Anaconda3\\lib\\site-packages\\plotnine\\facets\\facet.py:549: PlotnineWarning: If you need more space for the x-axis tick text use ... + theme(subplots_adjust={'wspace': 0.25}). Choose an appropriate value for 'wspace'.\n",
      "C:\\ProgramData\\Anaconda3\\lib\\site-packages\\plotnine\\facets\\facet.py:555: PlotnineWarning: If you need more space for the y-axis tick text use ... + theme(subplots_adjust={'hspace': 0.25}). Choose an appropriate value for 'hspace'\n",
      "C:\\ProgramData\\Anaconda3\\lib\\site-packages\\plotnine\\ggplot.py:727: PlotnineWarning: Saving 20 x 10 in image.\n",
      "C:\\ProgramData\\Anaconda3\\lib\\site-packages\\plotnine\\ggplot.py:730: PlotnineWarning: Filename: C:\\SQLite\\C9685.png\n",
      "C:\\ProgramData\\Anaconda3\\lib\\site-packages\\plotnine\\utils.py:1246: FutureWarning: is_categorical is deprecated and will be removed in a future version.  Use is_categorical_dtype instead\n",
      "C:\\ProgramData\\Anaconda3\\lib\\site-packages\\plotnine\\stats\\stat_boxplot.py:86: FutureWarning: is_categorical is deprecated and will be removed in a future version.  Use is_categorical_dtype instead\n",
      "C:\\ProgramData\\Anaconda3\\lib\\site-packages\\plotnine\\facets\\facet.py:549: PlotnineWarning: If you need more space for the x-axis tick text use ... + theme(subplots_adjust={'wspace': 0.25}). Choose an appropriate value for 'wspace'.\n",
      "C:\\ProgramData\\Anaconda3\\lib\\site-packages\\plotnine\\facets\\facet.py:555: PlotnineWarning: If you need more space for the y-axis tick text use ... + theme(subplots_adjust={'hspace': 0.25}). Choose an appropriate value for 'hspace'\n",
      "C:\\ProgramData\\Anaconda3\\lib\\site-packages\\plotnine\\ggplot.py:727: PlotnineWarning: Saving 20 x 10 in image.\n",
      "C:\\ProgramData\\Anaconda3\\lib\\site-packages\\plotnine\\ggplot.py:730: PlotnineWarning: Filename: C:\\SQLite\\C4364.png\n",
      "C:\\ProgramData\\Anaconda3\\lib\\site-packages\\plotnine\\utils.py:1246: FutureWarning: is_categorical is deprecated and will be removed in a future version.  Use is_categorical_dtype instead\n",
      "C:\\ProgramData\\Anaconda3\\lib\\site-packages\\plotnine\\stats\\stat_boxplot.py:86: FutureWarning: is_categorical is deprecated and will be removed in a future version.  Use is_categorical_dtype instead\n",
      "C:\\ProgramData\\Anaconda3\\lib\\site-packages\\plotnine\\facets\\facet.py:549: PlotnineWarning: If you need more space for the x-axis tick text use ... + theme(subplots_adjust={'wspace': 0.25}). Choose an appropriate value for 'wspace'.\n",
      "C:\\ProgramData\\Anaconda3\\lib\\site-packages\\plotnine\\facets\\facet.py:555: PlotnineWarning: If you need more space for the y-axis tick text use ... + theme(subplots_adjust={'hspace': 0.25}). Choose an appropriate value for 'hspace'\n"
     ]
    }
   ],
   "source": [
    "par_aud(\"C:/SQLite\", \"20200522_sqlite.db\", \"tablasSQL.csv\", \"audit2\")  # audit2 column from csv table file"
   ]
  },
  {
   "cell_type": "code",
   "execution_count": null,
   "metadata": {},
   "outputs": [],
   "source": []
  }
 ],
 "metadata": {
  "jupytext": {
   "encoding": "# -*- coding: utf-8 -*-",
   "formats": "ipynb,py:light"
  },
  "kernelspec": {
   "display_name": "Python 3",
   "language": "python",
   "name": "python3"
  },
  "language_info": {
   "codemirror_mode": {
    "name": "ipython",
    "version": 3
   },
   "file_extension": ".py",
   "mimetype": "text/x-python",
   "name": "python",
   "nbconvert_exporter": "python",
   "pygments_lexer": "ipython3",
   "version": "3.8.3"
  }
 },
 "nbformat": 4,
 "nbformat_minor": 4
}
