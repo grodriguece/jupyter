{
 "cells": [
  {
   "cell_type": "markdown",
   "metadata": {},
   "source": [
    "# Reportlab\n",
    "[examples](https://recursospython.com/guias-y-manuales/crear-documentos-pdf-en-python-con-reportlab/)\n",
    "\n",
    "[site](https://www.reportlab.com/dev/docs/)\n",
    "[docs](https://www.reportlab.com/docs/reportlab-userguide.pdf)"
   ]
  },
  {
   "cell_type": "markdown",
   "metadata": {},
   "source": [
    "Las dimensiones de una hoja están expresadas en puntos (points), no en píxeles, equivaliendo un punto a 1/72 pulgadas. Una hoja A4 está constituida por 595.2 puntos de ancho (width) y 841.8 puntos de alto (height). origen de las coordenadas (esto es, la posición (0, 0)) se encuentra en el extremo inferior izquierdo. Al crear una instancia de canvas.Canvas podemos especificar una dimensión alternativa para cada una de las hojas vía el parámetro pagesize, pasando una tupla cuyo primer elemento representa el ancho en puntos y el segundo, el alto. "
   ]
  },
  {
   "cell_type": "markdown",
   "metadata": {},
   "source": [
    "c.showPage() antes de guardar el documento. Este método le indica a ReportLab que ya hemos terminado de trabajar en la hoja actual y queremos pasar a la siguiente. Aunque todavía no hemos trabajado con una segunda hoja (y no aparecerá en el documento en tanto no se haya dibujado nada) es una buena práctica recordar hacerlo antes de invocar c.save(). Para insertar imagenes en un documento PDF ReportLab hace uso de la librería Pillow, que se instala sencillamente vía pip install Pillow.El método drawImage() toma como argumento la ruta de una imagen (soporta múltiples formatos tales como PNG, JPEG y GIF) y la posición (x, y) en la que se quiere insertar. Podemos achicar o agrandar la imagen indicando sus dimensiones vía los argumentos width y height."
   ]
  },
  {
   "cell_type": "code",
   "execution_count": 65,
   "metadata": {},
   "outputs": [],
   "source": [
    "# from reportlab.pdfgen import canvas\n",
    "# from reportlab.lib.pagesizes import A4, letter, landscape, portrait\n",
    "# from reportlab.lib.styles import getSampleStyleSheet\n",
    "# from reportlab.platypus import Table, Flowable, SimpleDocTemplate, Paragraph, Spacer, Image\n",
    "# from reportlab.lib import randomtext\n",
    "# from reportlab import platypus"
   ]
  },
  {
   "cell_type": "code",
   "execution_count": null,
   "metadata": {},
   "outputs": [],
   "source": [
    "# print(letter,A4)"
   ]
  },
  {
   "cell_type": "code",
   "execution_count": 63,
   "metadata": {},
   "outputs": [],
   "source": [
    "def pntopd(file, figs, x, y, wi, he):\n",
    "    from reportlab.pdfgen import canvas\n",
    "    from reportlab.lib.pagesizes import A4, letter, landscape, portrait\n",
    "    w, h = letter\n",
    "    c = canvas.Canvas(str(file), pagesize=portrait(letter))\n",
    "    for png in figs:\n",
    "        c.drawImage(png, x, h - y, width=wi, height=he)\n",
    "        c.showPage()\n",
    "    c.save()"
   ]
  },
  {
   "cell_type": "code",
   "execution_count": 64,
   "metadata": {},
   "outputs": [],
   "source": [
    "from datetime import date\n",
    "from pathlib import Path\n",
    "ruta = \"C:/SQLite\"\n",
    "today = date.today()\n",
    "dat_dir = Path(ruta)\n",
    "tit = today.strftime(\"%y%m%d\") + '_ParameterAudit'\n",
    "pdf_file = tit + \".pdf\"\n",
    "pdf_path = dat_dir / pdf_file\n",
    "pnglist = ['C0.png', 'C4387.png', 'C9712.png', 'C9685.png', 'C4364.png']\n",
    "pntopd(pdf_path, pnglist, 50, 550, 500, 500)"
   ]
  },
  {
   "cell_type": "code",
   "execution_count": 62,
   "metadata": {},
   "outputs": [],
   "source": [
    "# from reportlab.pdfgen import canvas\n",
    "# from reportlab.lib.pagesizes import A4, letter, landscape, portrait\n",
    "# from datetime import date\n",
    "# from pathlib import Path\n",
    "# ruta = \"C:/SQLite\"\n",
    "# today = date.today()\n",
    "# dat_dir = Path(ruta)\n",
    "# tit = today.strftime(\"%y%m%d\") + '_ParameterAudit'\n",
    "# pdf_file = tit + \".pdf\"\n",
    "# pdf_path = dat_dir / pdf_file\n",
    "# w, h = letter\n",
    "# c = canvas.Canvas(str(pdf_path), pagesize=portrait(letter))\n",
    "# # c.drawString(50, h - 50, \"¡Hola, mundo!\")\n",
    "# c.drawImage(\"C0.png\", 50, h - 550, width=500, height=500)\n",
    "# c.showPage()\n",
    "# c.drawImage(\"C4387.png\", 50, h - 550, width=500, height=500)\n",
    "# c.showPage()\n",
    "# c.drawImage(\"C9712.png\", 50, h - 550, width=500, height=500)\n",
    "# c.showPage()\n",
    "# c.drawImage(\"C9685.png\", 50, h - 550, width=500, height=500)\n",
    "# c.showPage()\n",
    "# c.drawImage(\"C4364.png\", 50, h - 550, width=500, height=500)\n",
    "# c.showPage()\n",
    "# c.save()"
   ]
  },
  {
   "cell_type": "code",
   "execution_count": null,
   "metadata": {},
   "outputs": [],
   "source": [
    "# w, h = letter\n",
    "# c = canvas.Canvas(\"hola-mundo.pdf\", pagesize=portrait(letter))\n",
    "# # c.drawString(50, h - 50, \"¡Hola, mundo!\")\n",
    "# c.drawImage(\"C0.png\", 50, h - 550, width=500, height=500)\n",
    "# c.showPage()\n",
    "# c.drawImage(\"C4387.png\", 50, h - 550, width=500, height=500)\n",
    "# c.showPage()\n",
    "# c.drawImage(\"C9712.png\", 50, h - 550, width=500, height=500)\n",
    "# c.showPage()\n",
    "# c.drawImage(\"C9685.png\", 50, h - 550, width=500, height=500)\n",
    "# c.showPage()\n",
    "# c.drawImage(\"C4364.png\", 50, h - 550, width=500, height=500)\n",
    "# c.showPage()\n",
    "# c.save()"
   ]
  },
  {
   "cell_type": "code",
   "execution_count": null,
   "metadata": {
    "lines_to_next_cell": 0
   },
   "outputs": [],
   "source": [
    "# lWidth, lHeight = letter\n",
    "# if orientation == 'landscape':\n",
    "#     canvas.setPageSize((lHeight, lWidth))\n",
    "# else:\n",
    "#     canvas.setPageSize((lWidth, lHeight))\n",
    "\n",
    "# from reportlab.lib.pagesizes import A4\n",
    "# from reportlab.pdfgen import canvas\n",
    "# w, h = A4\n",
    "# c = canvas.Canvas(\"figuras.pdf\", pagesize=A4)\n",
    "# c.drawString(30, h - 50, \"Línea\")\n",
    "# x = 120\n",
    "# y = h - 45\n",
    "# c.line(x, y, x + 100, y)\n",
    "# c.drawString(30, h - 100, \"Rectángulo\")\n",
    "# c.rect(x, h - 120, 100, 50)\n",
    "# c.drawString(30, h - 170, \"Círculo\")\n",
    "# c.circle(170, h - 165, 20)\n",
    "# c.drawString(30, h - 240, \"Elipse\")\n",
    "# c.ellipse(x, y - 170, x + 100, y - 220)\n",
    "# c.showPage()\n",
    "# c.save()"
   ]
  },
  {
   "cell_type": "code",
   "execution_count": null,
   "metadata": {
    "lines_to_next_cell": 2
   },
   "outputs": [],
   "source": []
  }
 ],
 "metadata": {
  "jupytext": {
   "encoding": "# -*- coding: utf-8 -*-",
   "formats": "ipynb,py:light"
  },
  "kernelspec": {
   "display_name": "Python 3",
   "language": "python",
   "name": "python3"
  },
  "language_info": {
   "codemirror_mode": {
    "name": "ipython",
    "version": 3
   },
   "file_extension": ".py",
   "mimetype": "text/x-python",
   "name": "python",
   "nbconvert_exporter": "python",
   "pygments_lexer": "ipython3",
   "version": "3.8.3"
  }
 },
 "nbformat": 4,
 "nbformat_minor": 4
}
