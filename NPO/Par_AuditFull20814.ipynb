{
 "cells": [
  {
   "cell_type": "code",
   "execution_count": 1,
   "metadata": {},
   "outputs": [],
   "source": [
    "from rfpack.par_audc import par_aud"
   ]
  },
  {
   "cell_type": "code",
   "execution_count": 4,
   "metadata": {},
   "outputs": [
    {
     "name": "stderr",
     "output_type": "stream",
     "text": [
      "C:\\ProgramData\\Anaconda3\\lib\\site-packages\\pandas\\core\\algorithms.py:867: UserWarning: Unable to sort modes: '<' not supported between instances of 'str' and 'NoneType'\n",
      "C:\\ProgramData\\Anaconda3\\lib\\site-packages\\plotnine\\ggplot.py:727: PlotnineWarning: Saving 20 x 10 in image.\n",
      "C:\\ProgramData\\Anaconda3\\lib\\site-packages\\plotnine\\ggplot.py:730: PlotnineWarning: Filename: C:\\SQLite\\WBTS.png\n",
      "C:\\ProgramData\\Anaconda3\\lib\\site-packages\\plotnine\\facets\\facet.py:549: PlotnineWarning: If you need more space for the x-axis tick text use ... + theme(subplots_adjust={'wspace': 0.25}). Choose an appropriate value for 'wspace'.\n",
      "C:\\ProgramData\\Anaconda3\\lib\\site-packages\\plotnine\\facets\\facet.py:555: PlotnineWarning: If you need more space for the y-axis tick text use ... + theme(subplots_adjust={'hspace': 0.25}). Choose an appropriate value for 'hspace'\n",
      "C:\\ProgramData\\Anaconda3\\lib\\site-packages\\plotnine\\ggplot.py:727: PlotnineWarning: Saving 20 x 10 in image.\n",
      "C:\\ProgramData\\Anaconda3\\lib\\site-packages\\plotnine\\ggplot.py:730: PlotnineWarning: Filename: C:\\SQLite\\WBTS1.png\n",
      "C:\\ProgramData\\Anaconda3\\lib\\site-packages\\plotnine\\ggplot.py:727: PlotnineWarning: Saving 20 x 10 in image.\n",
      "C:\\ProgramData\\Anaconda3\\lib\\site-packages\\plotnine\\ggplot.py:730: PlotnineWarning: Filename: C:\\SQLite\\WBTS2.png\n",
      "C:\\ProgramData\\Anaconda3\\lib\\site-packages\\plotnine\\ggplot.py:727: PlotnineWarning: Saving 20 x 10 in image.\n",
      "C:\\ProgramData\\Anaconda3\\lib\\site-packages\\plotnine\\ggplot.py:730: PlotnineWarning: Filename: C:\\SQLite\\Lall.png\n",
      "C:\\ProgramData\\Anaconda3\\lib\\site-packages\\plotnine\\facets\\facet.py:549: PlotnineWarning: If you need more space for the x-axis tick text use ... + theme(subplots_adjust={'wspace': 0.25}). Choose an appropriate value for 'wspace'.\n",
      "C:\\ProgramData\\Anaconda3\\lib\\site-packages\\plotnine\\facets\\facet.py:555: PlotnineWarning: If you need more space for the y-axis tick text use ... + theme(subplots_adjust={'hspace': 0.25}). Choose an appropriate value for 'hspace'\n",
      "C:\\ProgramData\\Anaconda3\\lib\\site-packages\\plotnine\\ggplot.py:727: PlotnineWarning: Saving 20 x 10 in image.\n",
      "C:\\ProgramData\\Anaconda3\\lib\\site-packages\\plotnine\\ggplot.py:730: PlotnineWarning: Filename: C:\\SQLite\\Lall1.png\n",
      "C:\\ProgramData\\Anaconda3\\lib\\site-packages\\plotnine\\ggplot.py:727: PlotnineWarning: Saving 20 x 10 in image.\n",
      "C:\\ProgramData\\Anaconda3\\lib\\site-packages\\plotnine\\ggplot.py:730: PlotnineWarning: Filename: C:\\SQLite\\Lall2.png\n",
      "C:\\ProgramData\\Anaconda3\\lib\\site-packages\\plotnine\\ggplot.py:727: PlotnineWarning: Saving 20 x 10 in image.\n",
      "C:\\ProgramData\\Anaconda3\\lib\\site-packages\\plotnine\\ggplot.py:730: PlotnineWarning: Filename: C:\\SQLite\\3075.png\n",
      "C:\\ProgramData\\Anaconda3\\lib\\site-packages\\plotnine\\facets\\facet.py:549: PlotnineWarning: If you need more space for the x-axis tick text use ... + theme(subplots_adjust={'wspace': 0.25}). Choose an appropriate value for 'wspace'.\n",
      "C:\\ProgramData\\Anaconda3\\lib\\site-packages\\plotnine\\facets\\facet.py:555: PlotnineWarning: If you need more space for the y-axis tick text use ... + theme(subplots_adjust={'hspace': 0.25}). Choose an appropriate value for 'hspace'\n",
      "C:\\ProgramData\\Anaconda3\\lib\\site-packages\\plotnine\\ggplot.py:727: PlotnineWarning: Saving 20 x 10 in image.\n",
      "C:\\ProgramData\\Anaconda3\\lib\\site-packages\\plotnine\\ggplot.py:730: PlotnineWarning: Filename: C:\\SQLite\\30751.png\n",
      "C:\\ProgramData\\Anaconda3\\lib\\site-packages\\plotnine\\ggplot.py:727: PlotnineWarning: Saving 20 x 10 in image.\n",
      "C:\\ProgramData\\Anaconda3\\lib\\site-packages\\plotnine\\ggplot.py:730: PlotnineWarning: Filename: C:\\SQLite\\30752.png\n",
      "C:\\ProgramData\\Anaconda3\\lib\\site-packages\\plotnine\\ggplot.py:727: PlotnineWarning: Saving 20 x 10 in image.\n",
      "C:\\ProgramData\\Anaconda3\\lib\\site-packages\\plotnine\\ggplot.py:730: PlotnineWarning: Filename: C:\\SQLite\\3225.png\n",
      "C:\\ProgramData\\Anaconda3\\lib\\site-packages\\plotnine\\facets\\facet.py:549: PlotnineWarning: If you need more space for the x-axis tick text use ... + theme(subplots_adjust={'wspace': 0.25}). Choose an appropriate value for 'wspace'.\n",
      "C:\\ProgramData\\Anaconda3\\lib\\site-packages\\plotnine\\facets\\facet.py:555: PlotnineWarning: If you need more space for the y-axis tick text use ... + theme(subplots_adjust={'hspace': 0.25}). Choose an appropriate value for 'hspace'\n",
      "C:\\ProgramData\\Anaconda3\\lib\\site-packages\\plotnine\\ggplot.py:727: PlotnineWarning: Saving 20 x 10 in image.\n",
      "C:\\ProgramData\\Anaconda3\\lib\\site-packages\\plotnine\\ggplot.py:730: PlotnineWarning: Filename: C:\\SQLite\\32251.png\n",
      "C:\\ProgramData\\Anaconda3\\lib\\site-packages\\plotnine\\ggplot.py:727: PlotnineWarning: Saving 20 x 10 in image.\n",
      "C:\\ProgramData\\Anaconda3\\lib\\site-packages\\plotnine\\ggplot.py:730: PlotnineWarning: Filename: C:\\SQLite\\32252.png\n",
      "C:\\ProgramData\\Anaconda3\\lib\\site-packages\\plotnine\\ggplot.py:727: PlotnineWarning: Saving 20 x 10 in image.\n",
      "C:\\ProgramData\\Anaconda3\\lib\\site-packages\\plotnine\\ggplot.py:730: PlotnineWarning: Filename: C:\\SQLite\\626.png\n",
      "C:\\ProgramData\\Anaconda3\\lib\\site-packages\\plotnine\\facets\\facet.py:549: PlotnineWarning: If you need more space for the x-axis tick text use ... + theme(subplots_adjust={'wspace': 0.25}). Choose an appropriate value for 'wspace'.\n",
      "C:\\ProgramData\\Anaconda3\\lib\\site-packages\\plotnine\\facets\\facet.py:555: PlotnineWarning: If you need more space for the y-axis tick text use ... + theme(subplots_adjust={'hspace': 0.25}). Choose an appropriate value for 'hspace'\n",
      "C:\\ProgramData\\Anaconda3\\lib\\site-packages\\plotnine\\ggplot.py:727: PlotnineWarning: Saving 20 x 10 in image.\n",
      "C:\\ProgramData\\Anaconda3\\lib\\site-packages\\plotnine\\ggplot.py:730: PlotnineWarning: Filename: C:\\SQLite\\6261.png\n",
      "C:\\ProgramData\\Anaconda3\\lib\\site-packages\\plotnine\\ggplot.py:727: PlotnineWarning: Saving 20 x 10 in image.\n",
      "C:\\ProgramData\\Anaconda3\\lib\\site-packages\\plotnine\\ggplot.py:730: PlotnineWarning: Filename: C:\\SQLite\\6262.png\n",
      "C:\\ProgramData\\Anaconda3\\lib\\site-packages\\plotnine\\ggplot.py:727: PlotnineWarning: Saving 20 x 10 in image.\n",
      "C:\\ProgramData\\Anaconda3\\lib\\site-packages\\plotnine\\ggplot.py:730: PlotnineWarning: Filename: C:\\SQLite\\651.png\n",
      "C:\\ProgramData\\Anaconda3\\lib\\site-packages\\plotnine\\facets\\facet.py:549: PlotnineWarning: If you need more space for the x-axis tick text use ... + theme(subplots_adjust={'wspace': 0.25}). Choose an appropriate value for 'wspace'.\n",
      "C:\\ProgramData\\Anaconda3\\lib\\site-packages\\plotnine\\facets\\facet.py:555: PlotnineWarning: If you need more space for the y-axis tick text use ... + theme(subplots_adjust={'hspace': 0.25}). Choose an appropriate value for 'hspace'\n",
      "C:\\ProgramData\\Anaconda3\\lib\\site-packages\\plotnine\\ggplot.py:727: PlotnineWarning: Saving 20 x 10 in image.\n",
      "C:\\ProgramData\\Anaconda3\\lib\\site-packages\\plotnine\\ggplot.py:730: PlotnineWarning: Filename: C:\\SQLite\\6511.png\n",
      "C:\\ProgramData\\Anaconda3\\lib\\site-packages\\plotnine\\ggplot.py:727: PlotnineWarning: Saving 20 x 10 in image.\n",
      "C:\\ProgramData\\Anaconda3\\lib\\site-packages\\plotnine\\ggplot.py:730: PlotnineWarning: Filename: C:\\SQLite\\6512.png\n",
      "C:\\ProgramData\\Anaconda3\\lib\\site-packages\\plotnine\\ggplot.py:727: PlotnineWarning: Saving 20 x 10 in image.\n",
      "C:\\ProgramData\\Anaconda3\\lib\\site-packages\\plotnine\\ggplot.py:730: PlotnineWarning: Filename: C:\\SQLite\\LNBTS.png\n",
      "C:\\ProgramData\\Anaconda3\\lib\\site-packages\\plotnine\\facets\\facet.py:549: PlotnineWarning: If you need more space for the x-axis tick text use ... + theme(subplots_adjust={'wspace': 0.25}). Choose an appropriate value for 'wspace'.\n",
      "C:\\ProgramData\\Anaconda3\\lib\\site-packages\\plotnine\\facets\\facet.py:555: PlotnineWarning: If you need more space for the y-axis tick text use ... + theme(subplots_adjust={'hspace': 0.25}). Choose an appropriate value for 'hspace'\n",
      "C:\\ProgramData\\Anaconda3\\lib\\site-packages\\plotnine\\ggplot.py:727: PlotnineWarning: Saving 20 x 10 in image.\n",
      "C:\\ProgramData\\Anaconda3\\lib\\site-packages\\plotnine\\ggplot.py:730: PlotnineWarning: Filename: C:\\SQLite\\LNBTS1.png\n",
      "C:\\ProgramData\\Anaconda3\\lib\\site-packages\\plotnine\\ggplot.py:727: PlotnineWarning: Saving 20 x 10 in image.\n",
      "C:\\ProgramData\\Anaconda3\\lib\\site-packages\\plotnine\\ggplot.py:730: PlotnineWarning: Filename: C:\\SQLite\\LNBTS2.png\n",
      "C:\\ProgramData\\Anaconda3\\lib\\site-packages\\pandas\\core\\algorithms.py:867: UserWarning: Unable to sort modes: '<' not supported between instances of 'NoneType' and 'str'\n",
      "C:\\ProgramData\\Anaconda3\\lib\\site-packages\\plotnine\\ggplot.py:727: PlotnineWarning: Saving 20 x 10 in image.\n",
      "C:\\ProgramData\\Anaconda3\\lib\\site-packages\\plotnine\\ggplot.py:730: PlotnineWarning: Filename: C:\\SQLite\\Uall.png\n",
      "C:\\ProgramData\\Anaconda3\\lib\\site-packages\\plotnine\\facets\\facet.py:549: PlotnineWarning: If you need more space for the x-axis tick text use ... + theme(subplots_adjust={'wspace': 0.25}). Choose an appropriate value for 'wspace'.\n",
      "C:\\ProgramData\\Anaconda3\\lib\\site-packages\\plotnine\\facets\\facet.py:555: PlotnineWarning: If you need more space for the y-axis tick text use ... + theme(subplots_adjust={'hspace': 0.25}). Choose an appropriate value for 'hspace'\n",
      "C:\\ProgramData\\Anaconda3\\lib\\site-packages\\plotnine\\ggplot.py:727: PlotnineWarning: Saving 20 x 10 in image.\n",
      "C:\\ProgramData\\Anaconda3\\lib\\site-packages\\plotnine\\ggplot.py:730: PlotnineWarning: Filename: C:\\SQLite\\Uall1.png\n",
      "C:\\ProgramData\\Anaconda3\\lib\\site-packages\\plotnine\\ggplot.py:727: PlotnineWarning: Saving 20 x 10 in image.\n",
      "C:\\ProgramData\\Anaconda3\\lib\\site-packages\\plotnine\\ggplot.py:730: PlotnineWarning: Filename: C:\\SQLite\\Uall2.png\n",
      "C:\\ProgramData\\Anaconda3\\lib\\site-packages\\plotnine\\ggplot.py:727: PlotnineWarning: Saving 20 x 10 in image.\n",
      "C:\\ProgramData\\Anaconda3\\lib\\site-packages\\plotnine\\ggplot.py:730: PlotnineWarning: Filename: C:\\SQLite\\4387.png\n",
      "C:\\ProgramData\\Anaconda3\\lib\\site-packages\\plotnine\\facets\\facet.py:549: PlotnineWarning: If you need more space for the x-axis tick text use ... + theme(subplots_adjust={'wspace': 0.25}). Choose an appropriate value for 'wspace'.\n",
      "C:\\ProgramData\\Anaconda3\\lib\\site-packages\\plotnine\\facets\\facet.py:555: PlotnineWarning: If you need more space for the y-axis tick text use ... + theme(subplots_adjust={'hspace': 0.25}). Choose an appropriate value for 'hspace'\n",
      "C:\\ProgramData\\Anaconda3\\lib\\site-packages\\plotnine\\ggplot.py:727: PlotnineWarning: Saving 20 x 10 in image.\n",
      "C:\\ProgramData\\Anaconda3\\lib\\site-packages\\plotnine\\ggplot.py:730: PlotnineWarning: Filename: C:\\SQLite\\43871.png\n",
      "C:\\ProgramData\\Anaconda3\\lib\\site-packages\\plotnine\\ggplot.py:727: PlotnineWarning: Saving 20 x 10 in image.\n",
      "C:\\ProgramData\\Anaconda3\\lib\\site-packages\\plotnine\\ggplot.py:730: PlotnineWarning: Filename: C:\\SQLite\\43872.png\n",
      "C:\\ProgramData\\Anaconda3\\lib\\site-packages\\plotnine\\ggplot.py:727: PlotnineWarning: Saving 20 x 10 in image.\n",
      "C:\\ProgramData\\Anaconda3\\lib\\site-packages\\plotnine\\ggplot.py:730: PlotnineWarning: Filename: C:\\SQLite\\9712.png\n",
      "C:\\ProgramData\\Anaconda3\\lib\\site-packages\\plotnine\\facets\\facet.py:549: PlotnineWarning: If you need more space for the x-axis tick text use ... + theme(subplots_adjust={'wspace': 0.25}). Choose an appropriate value for 'wspace'.\n",
      "C:\\ProgramData\\Anaconda3\\lib\\site-packages\\plotnine\\facets\\facet.py:555: PlotnineWarning: If you need more space for the y-axis tick text use ... + theme(subplots_adjust={'hspace': 0.25}). Choose an appropriate value for 'hspace'\n",
      "C:\\ProgramData\\Anaconda3\\lib\\site-packages\\plotnine\\ggplot.py:727: PlotnineWarning: Saving 20 x 10 in image.\n",
      "C:\\ProgramData\\Anaconda3\\lib\\site-packages\\plotnine\\ggplot.py:730: PlotnineWarning: Filename: C:\\SQLite\\97121.png\n",
      "C:\\ProgramData\\Anaconda3\\lib\\site-packages\\plotnine\\ggplot.py:727: PlotnineWarning: Saving 20 x 10 in image.\n",
      "C:\\ProgramData\\Anaconda3\\lib\\site-packages\\plotnine\\ggplot.py:730: PlotnineWarning: Filename: C:\\SQLite\\97122.png\n",
      "C:\\ProgramData\\Anaconda3\\lib\\site-packages\\plotnine\\ggplot.py:727: PlotnineWarning: Saving 20 x 10 in image.\n",
      "C:\\ProgramData\\Anaconda3\\lib\\site-packages\\plotnine\\ggplot.py:730: PlotnineWarning: Filename: C:\\SQLite\\9685.png\n",
      "C:\\ProgramData\\Anaconda3\\lib\\site-packages\\plotnine\\facets\\facet.py:549: PlotnineWarning: If you need more space for the x-axis tick text use ... + theme(subplots_adjust={'wspace': 0.25}). Choose an appropriate value for 'wspace'.\n",
      "C:\\ProgramData\\Anaconda3\\lib\\site-packages\\plotnine\\facets\\facet.py:555: PlotnineWarning: If you need more space for the y-axis tick text use ... + theme(subplots_adjust={'hspace': 0.25}). Choose an appropriate value for 'hspace'\n",
      "C:\\ProgramData\\Anaconda3\\lib\\site-packages\\plotnine\\ggplot.py:727: PlotnineWarning: Saving 20 x 10 in image.\n",
      "C:\\ProgramData\\Anaconda3\\lib\\site-packages\\plotnine\\ggplot.py:730: PlotnineWarning: Filename: C:\\SQLite\\96851.png\n",
      "C:\\ProgramData\\Anaconda3\\lib\\site-packages\\plotnine\\ggplot.py:727: PlotnineWarning: Saving 20 x 10 in image.\n",
      "C:\\ProgramData\\Anaconda3\\lib\\site-packages\\plotnine\\ggplot.py:730: PlotnineWarning: Filename: C:\\SQLite\\96852.png\n",
      "C:\\ProgramData\\Anaconda3\\lib\\site-packages\\plotnine\\ggplot.py:727: PlotnineWarning: Saving 20 x 10 in image.\n",
      "C:\\ProgramData\\Anaconda3\\lib\\site-packages\\plotnine\\ggplot.py:730: PlotnineWarning: Filename: C:\\SQLite\\4364.png\n",
      "C:\\ProgramData\\Anaconda3\\lib\\site-packages\\plotnine\\facets\\facet.py:549: PlotnineWarning: If you need more space for the x-axis tick text use ... + theme(subplots_adjust={'wspace': 0.25}). Choose an appropriate value for 'wspace'.\n",
      "C:\\ProgramData\\Anaconda3\\lib\\site-packages\\plotnine\\facets\\facet.py:555: PlotnineWarning: If you need more space for the y-axis tick text use ... + theme(subplots_adjust={'hspace': 0.25}). Choose an appropriate value for 'hspace'\n",
      "C:\\ProgramData\\Anaconda3\\lib\\site-packages\\plotnine\\ggplot.py:727: PlotnineWarning: Saving 20 x 10 in image.\n",
      "C:\\ProgramData\\Anaconda3\\lib\\site-packages\\plotnine\\ggplot.py:730: PlotnineWarning: Filename: C:\\SQLite\\43641.png\n",
      "C:\\ProgramData\\Anaconda3\\lib\\site-packages\\plotnine\\ggplot.py:727: PlotnineWarning: Saving 20 x 10 in image.\n",
      "C:\\ProgramData\\Anaconda3\\lib\\site-packages\\plotnine\\ggplot.py:730: PlotnineWarning: Filename: C:\\SQLite\\43642.png\n"
     ]
    }
   ],
   "source": [
    "par_aud(\"C:/SQLite\", \"20200522_sqlite.db\", \"tablasSQL.csv\", \"audit2\")  # audit2 column from csv table file"
   ]
  },
  {
   "cell_type": "code",
   "execution_count": null,
   "metadata": {},
   "outputs": [],
   "source": []
  },
  {
   "cell_type": "code",
   "execution_count": null,
   "metadata": {},
   "outputs": [],
   "source": []
  }
 ],
 "metadata": {
  "jupytext": {
   "formats": "ipynb,py:light"
  },
  "kernelspec": {
   "display_name": "Python 3",
   "language": "python",
   "name": "python3"
  },
  "language_info": {
   "codemirror_mode": {
    "name": "ipython",
    "version": 3
   },
   "file_extension": ".py",
   "mimetype": "text/x-python",
   "name": "python",
   "nbconvert_exporter": "python",
   "pygments_lexer": "ipython3",
   "version": "3.8.3"
  }
 },
 "nbformat": 4,
 "nbformat_minor": 4
}
