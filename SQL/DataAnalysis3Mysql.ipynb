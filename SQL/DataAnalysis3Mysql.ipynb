{
 "cells": [
  {
   "cell_type": "markdown",
   "metadata": {},
   "source": [
    "https://pypi.org/project/mysql-connector-python/"
   ]
  },
  {
   "cell_type": "code",
   "execution_count": 1,
   "metadata": {},
   "outputs": [],
   "source": [
    "import os\n",
    "import numpy as np\n",
    "import pandas as pd\n",
    "import matplotlib.pyplot as plt\n",
    "import mysql.connector\n",
    "import seaborn as sb\n",
    "%matplotlib inline"
   ]
  },
  {
   "cell_type": "code",
   "execution_count": 2,
   "metadata": {},
   "outputs": [],
   "source": [
    "user_name = os.environ.get('DB_USER')\n",
    "password = os.environ.get('DB_PASS')"
   ]
  },
  {
   "cell_type": "code",
   "execution_count": 3,
   "metadata": {},
   "outputs": [
    {
     "data": {
      "text/plain": [
       "<mysql.connector.connection.MySQLConnection at 0x1e466868508>"
      ]
     },
     "execution_count": 3,
     "metadata": {},
     "output_type": "execute_result"
    }
   ],
   "source": [
    "mydb=mysql.connector.connect(host='localhost', user=user_name, passwd=password, \n",
    "                             auth_plugin = 'mysql_native_password', db='employees')\n",
    "mydb"
   ]
  },
  {
   "cell_type": "code",
   "execution_count": 4,
   "metadata": {},
   "outputs": [
    {
     "name": "stdout",
     "output_type": "stream",
     "text": [
      "('dbtest',)\n",
      "('employees',)\n",
      "('information_schema',)\n",
      "('mysql',)\n",
      "('performance_schema',)\n",
      "('sakila',)\n",
      "('sys',)\n",
      "('tempo',)\n",
      "('world',)\n"
     ]
    }
   ],
   "source": [
    "c=mydb.cursor()\n",
    "# c.execute('Create database tempo')\n",
    "c.execute('Show databases')\n",
    "\n",
    "for db in c:\n",
    "    print(db)\n",
    "\n",
    "# conn = sqlite3.connect('sakila-db/sakila.db')"
   ]
  },
  {
   "cell_type": "code",
   "execution_count": 7,
   "metadata": {},
   "outputs": [],
   "source": [
    "mydb=mysql.connector.connect(host='localhost', user=user_name, passwd=password, \n",
    "                             auth_plugin = 'mysql_native_password', db='tempo')\n",
    "c=mydb.cursor()\n",
    "c.execute('Create table employee(name varchar(200), sal int(20))')"
   ]
  },
  {
   "cell_type": "code",
   "execution_count": 8,
   "metadata": {},
   "outputs": [
    {
     "name": "stdout",
     "output_type": "stream",
     "text": [
      "('employee',)\n"
     ]
    }
   ],
   "source": [
    "# mydb=mysql.connector.connect(host='localhost', user=user_name, passwd=password, \n",
    "#                              auth_plugin = 'mysql_native_password', db='tempo')\n",
    "# c=mydb.cursor()\n",
    "c.execute('Show tables')\n",
    "for tb in c:\n",
    "    print(tb)"
   ]
  },
  {
   "cell_type": "code",
   "execution_count": 9,
   "metadata": {},
   "outputs": [],
   "source": [
    "sqlform = 'Insert into employee(name,sal) values(%s,%s)'\n",
    "\n",
    "employees = [('charles', 20000), ('john', 30000), ('anne', 50000), ]\n",
    "c.executemany(sqlform, employees)\n",
    "mydb.commit()"
   ]
  },
  {
   "cell_type": "code",
   "execution_count": 10,
   "metadata": {},
   "outputs": [
    {
     "name": "stdout",
     "output_type": "stream",
     "text": [
      "charles\n"
     ]
    }
   ],
   "source": [
    "# mydb=mysql.connector.connect(host='localhost', user=user_name, passwd=password, \n",
    "#                              auth_plugin = 'mysql_native_password', db='tempo')\n",
    "# c=mydb.cursor()\n",
    "c.execute('Select name from employee')\n",
    "myresult = c.fetchone()\n",
    "\n",
    "for row in myresult:\n",
    "   print(row)"
   ]
  },
  {
   "cell_type": "code",
   "execution_count": 13,
   "metadata": {},
   "outputs": [
    {
     "name": "stdout",
     "output_type": "stream",
     "text": [
      "('charles', 20000)\n",
      "('john', 30000)\n",
      "('anne', 50000)\n"
     ]
    }
   ],
   "source": [
    "mydb=mysql.connector.connect(host='localhost', user=user_name, passwd=password, \n",
    "                             auth_plugin = 'mysql_native_password', db='tempo')\n",
    "c=mydb.cursor()\n",
    "c.execute('Select * from employee')\n",
    "myresult = c.fetchall()\n",
    "\n",
    "for row in myresult:\n",
    "   print(row)"
   ]
  },
  {
   "cell_type": "code",
   "execution_count": 14,
   "metadata": {},
   "outputs": [],
   "source": [
    "# mydb=mysql.connector.connect(host='localhost', user=user_name, passwd=password, \n",
    "#                              auth_plugin = 'mysql_native_password', db='tempo')\n",
    "# c=mydb.cursor()\n",
    "sql = \"UPDATE employee SET sal=70000 WHERE name='anne'\"\n",
    "c.execute(sql)\n",
    "mydb.commit()"
   ]
  },
  {
   "cell_type": "code",
   "execution_count": 15,
   "metadata": {},
   "outputs": [
    {
     "name": "stdout",
     "output_type": "stream",
     "text": [
      "('charles', 20000)\n",
      "('john', 30000)\n",
      "('anne', 70000)\n"
     ]
    }
   ],
   "source": [
    "# mydb=mysql.connector.connect(host='localhost', user=user_name, passwd=password, \n",
    "#                              auth_plugin = 'mysql_native_password', db='tempo')\n",
    "# c=mydb.cursor()\n",
    "c.execute('Select * from employee')\n",
    "myresult = c.fetchall()\n",
    "\n",
    "for row in myresult:\n",
    "   print(row)"
   ]
  },
  {
   "cell_type": "code",
   "execution_count": 16,
   "metadata": {},
   "outputs": [],
   "source": [
    "# mydb=mysql.connector.connect(host='localhost', user=user_name, passwd=password, \n",
    "#                              auth_plugin = 'mysql_native_password', db='tempo')\n",
    "# c=mydb.cursor()\n",
    "sql = \"DELETE FROM employee WHERE name='anne'\"\n",
    "c.execute(sql)\n",
    "mydb.commit()"
   ]
  },
  {
   "cell_type": "code",
   "execution_count": 17,
   "metadata": {},
   "outputs": [
    {
     "name": "stdout",
     "output_type": "stream",
     "text": [
      "('charles', 20000)\n",
      "('john', 30000)\n"
     ]
    }
   ],
   "source": [
    "# mydb=mysql.connector.connect(host='localhost', user=user_name, passwd=password, \n",
    "#                              auth_plugin = 'mysql_native_password', db='tempo')\n",
    "# c=mydb.cursor()\n",
    "c.execute('Select * from employee')\n",
    "myresult = c.fetchall()\n",
    "\n",
    "for row in myresult:\n",
    "   print(row)"
   ]
  },
  {
   "cell_type": "code",
   "execution_count": null,
   "metadata": {},
   "outputs": [],
   "source": [
    "sql = \"DROP TABLE employee\"\n",
    "c.execute(sql)\n",
    "mydb.commit()"
   ]
  },
  {
   "cell_type": "code",
   "execution_count": null,
   "metadata": {},
   "outputs": [],
   "source": []
  }
 ],
 "metadata": {
  "kernelspec": {
   "display_name": "Python 3",
   "language": "python",
   "name": "python3"
  },
  "language_info": {
   "codemirror_mode": {
    "name": "ipython",
    "version": 3
   },
   "file_extension": ".py",
   "mimetype": "text/x-python",
   "name": "python",
   "nbconvert_exporter": "python",
   "pygments_lexer": "ipython3",
   "version": "3.7.7"
  }
 },
 "nbformat": 4,
 "nbformat_minor": 4
}
