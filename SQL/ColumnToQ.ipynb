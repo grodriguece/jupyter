{
 "cells": [
  {
   "cell_type": "code",
   "execution_count": 4,
   "metadata": {},
   "outputs": [],
   "source": [
    "import pandas as pd\n",
    "import sqlite3\n",
    "from pathlib import Path"
   ]
  },
  {
   "cell_type": "markdown",
   "metadata": {},
   "source": [
    "ctoq() save transposed table column names in csv file"
   ]
  },
  {
   "cell_type": "code",
   "execution_count": 36,
   "metadata": {},
   "outputs": [],
   "source": [
    "def ctoq(ruta, datb, table):\n",
    "    dat_dir = Path(ruta)\n",
    "    db_path1 = dat_dir / datb\n",
    "    conn = sqlite3.connect(db_path1)                # database connection\n",
    "    c = conn.cursor()\n",
    "    df = (pd.read_sql_query(\"SELECT name FROM pragma_table_info ('\" + table + \"');\", conn).T)\n",
    "    df = table + '.' + df\n",
    "    csv_loc = table + '_head.csv'   # csv file name\n",
    "    df.to_csv(dat_dir / csv_loc, header = False, index = False)       # pandas dataframe saved to csv\n",
    "    c.close()\n",
    "    conn.close()    "
   ]
  },
  {
   "cell_type": "code",
   "execution_count": 37,
   "metadata": {},
   "outputs": [],
   "source": [
    "ctoq(\"C:/SQLite\", \"20200522_sqlite.db\", 'WCEL')"
   ]
  },
  {
   "cell_type": "code",
   "execution_count": null,
   "metadata": {},
   "outputs": [],
   "source": []
  }
 ],
 "metadata": {
  "jupytext": {
   "formats": "ipynb,py:light"
  },
  "kernelspec": {
   "display_name": "Python 3",
   "language": "python",
   "name": "python3"
  },
  "language_info": {
   "codemirror_mode": {
    "name": "ipython",
    "version": 3
   },
   "file_extension": ".py",
   "mimetype": "text/x-python",
   "name": "python",
   "nbconvert_exporter": "python",
   "pygments_lexer": "ipython3",
   "version": "3.7.7"
  }
 },
 "nbformat": 4,
 "nbformat_minor": 4
}
